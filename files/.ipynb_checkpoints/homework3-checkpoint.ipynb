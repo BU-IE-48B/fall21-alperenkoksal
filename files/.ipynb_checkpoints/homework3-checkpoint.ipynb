{
 "cells": [
  {
   "cell_type": "markdown",
   "id": "646f42a9",
   "metadata": {},
   "source": [
    "# Comparison of NN classifiers with alternative representations\n",
    "\n",
    "In this project, we will perform Knn classifiers prediction for 5 different datasets which is provided by http://www.timeseriesclassification.com . All the datasets can be found at this website. We will perform Knn classifiers on raw dataset and 2  different presentation with 3 different presentation parameters and after this we will use 4 different distance parameter for each presentation. Finally best parameter combination will be choosen by comparing the cross validation accuracy measures. With the best parameters, predictions will be done.\n",
    "    \n",
    "                                                                                    Alperen Köksal"
   ]
  },
  {
   "cell_type": "markdown",
   "id": "e431634c",
   "metadata": {},
   "source": [
    "matrices[[1]] = train_raw\n",
    "\n",
    "matrices[[2]] = tree piecewise representation with maxdepth = 2\n",
    "\n",
    "matrices[[3]] = tree piecewise representation with maxdepth = 3\n",
    "\n",
    "matrices[[4]] = tree piecewise representation with maxdepth = 4\n",
    "\n",
    "matrices[[5]] = Piecewise Aggregate Approximation representation with segmenth length = 5\n",
    "\n",
    "matrices[[6]] = Piecewise Aggregate Approximation representation with segmenth length = 10\n",
    "\n",
    "matrices[[7]] = Piecewise Aggregate Approximation representation with segmenth length = 20"
   ]
  },
  {
   "cell_type": "markdown",
   "id": "274d3df3",
   "metadata": {},
   "source": [
    "distances[[1,5,9,13,17,21,25] = Euclidean distance of matrices[[1,2,3,4,5,6,7]]\n",
    "    \n",
    "distances[[2,6,10,14,18,22,26]] = Dynamic time warping distance of matrices[[1,2,3,4,5,6,7]]\n",
    "    \n",
    "distances[[3,7,11,15,19,23,27]] = Longest common subsequence distances of matrices[[1,2,3,4,5,6,7]]\n",
    "    \n",
    "distances[[4,8,12,16,20,24,28]] = Manhattan distances of matrices[[1,2,3,4,5,6,7]]"
   ]
  },
  {
   "cell_type": "code",
   "execution_count": 126,
   "id": "5931c832",
   "metadata": {},
   "outputs": [],
   "source": [
    "library(data.table,quietly = TRUE,warn.conflicts = FALSE)\n",
    "library(ggplot2,quietly = TRUE,warn.conflicts = FALSE)\n",
    "library(lubridate,quietly = TRUE,warn.conflicts = FALSE)\n",
    "library(forecast,quietly = TRUE,warn.conflicts = FALSE)\n",
    "library(urca,quietly = TRUE,warn.conflicts = FALSE)\n",
    "library(plotly,quietly = TRUE,warn.conflicts = FALSE)\n",
    "library(scatterplot3d,quietly = TRUE,warn.conflicts = FALSE)\n",
    "library(rpart,quietly = TRUE,warn.conflicts = FALSE)\n",
    "library(rattle,quietly = TRUE,warn.conflicts = FALSE)\n",
    "library(modelr)\n",
    "library(resamplr)\n",
    "library(caret)\n",
    "library(TSrepr)\n",
    "library(repr)\n",
    "library(zoo)\n",
    "library(Rfast)\n",
    "library(TSdist)\n",
    "library(dtw)\n",
    "library(TunePareto)\n",
    "library(FastKNN)\n",
    "library(readr)"
   ]
  },
  {
   "cell_type": "markdown",
   "id": "88cd0573",
   "metadata": {},
   "source": [
    "Required cross validation knn classify function which is provided our teacher. It basicly takes 4 inputs: distance matrix, class of train set instances, indices that we will do test on, and k value."
   ]
  },
  {
   "cell_type": "code",
   "execution_count": 3,
   "id": "7f0fc97a",
   "metadata": {},
   "outputs": [],
   "source": [
    "nn_classify_cv=function(dist_matrix,train_class,test_indices,k=1){\n",
    "    \n",
    "    test_distances_to_train=dist_matrix[test_indices,]\n",
    "    test_distances_to_train=test_distances_to_train[,-test_indices]\n",
    "    train_class=train_class[-test_indices]\n",
    "    #print(str(test_distances_to_train))\n",
    "    ordered_indices=apply(test_distances_to_train,1,order)\n",
    "    if(k==1){\n",
    "        nearest_class=as.numeric(trainclass[as.numeric(ordered_indices[1,])])\n",
    "        nearest_class=data.table(id=test_indices,nearest_class)\n",
    "    } else {\n",
    "        nearest_class=apply(ordered_indices[1:k,],2,function(x) {trainclass[x]})\n",
    "        nearest_class=data.table(id=test_indices,t(nearest_class))\n",
    "    }\n",
    "    \n",
    "    long_nn_class=melt(nearest_class,'id')\n",
    "\n",
    "    class_counts=long_nn_class[,.N,list(id,value)]\n",
    "    class_counts[,predicted_prob:=N/k]\n",
    "    wide_class_prob_predictions=dcast(class_counts,id~value,value.var='predicted_prob')\n",
    "    wide_class_prob_predictions[is.na(wide_class_prob_predictions)]=0\n",
    "    class_predictions=class_counts[,list(predicted=value[which.max(N)]),by=list(id)]\n",
    "    \n",
    "    \n",
    "    return(list(prediction=class_predictions,prob_estimates=wide_class_prob_predictions))\n",
    "}"
   ]
  },
  {
   "cell_type": "markdown",
   "id": "27428d6c",
   "metadata": {},
   "source": [
    "# 1) GunPoint dataset\n",
    "\n",
    "This dataset is a remake of the famous GunPoint dataset released in 2003. We strive to mimic in every aspect the recording of the original GunPoint. The actors include one male and one female. They are the same actors who created the original GunPoint.\n",
    "\n",
    "We record two scenarios, Gun and Point (also known as Gun and NoGun). In each scenario, the actors aim at a eye-level target. The difference between Gun and Point is that for the Gun scenario, the actors hold a gun, and in the Point scenario, the actors point with just their fingers. A complete Gun action involves the actor moves hand from an initial rest position, points the gun at target, puts gun back to waist holster and then brings free hand to the initial rest position. Each complete action conforms to a five-second cycle. With 30fps, this translates into 150 frames per action. We extract the centroid of the hand from each frame and use its x-axis coordinate to form a time series.\n",
    "\n",
    "We refer to the old GunPoint as GunPoint 2003 and the new GunPoint as Gunpoint 2018. We merged GunPoint 2003 and GunPoint 2018 to make three datasets.\n",
    "\n",
    "Let us denote:\n",
    "- G: Gun\n",
    "- P: Point\n",
    "- M: Male\n",
    "- F: Female\n",
    "- 03: The year 2003\n",
    "- 18: The year 2018\n",
    "\n",
    "## GunPointAgeSpan \n",
    "\n",
    "The task is to classify Gun and Point. There are 4 flavors of each class.\n",
    "- Class 1: Gun (FG03, MG03, FG18, MG18)\n",
    "- Class 2: Point (FP03, MP03, FP18, MP18)\n",
    "\n",
    "Train size: 135\n",
    "\n",
    "Test size: 316\n",
    "\n",
    "Number of classes: 2\n",
    "\n",
    "Missing value: No\n",
    "\n",
    "Time series length: 150\n",
    "\n",
    "## GunPointMaleVersusFemale\n",
    "\n",
    "The task is to classify Male and Female. There are 4 flavors of each class.\n",
    "- Class 1: Female (FG03, FP03, FG18, FP18)\n",
    "- Class 2: Male (MG03, MP03, MG18, MP18)\n",
    "\n",
    "Train size: 135\n",
    "\n",
    "Test size: 316\n",
    "\n",
    "Number of classes: 2\n",
    "\n",
    "Missing value: No\n",
    "\n",
    "Time series length: 150\n",
    "\n",
    "## GunPointOldVersusYoung\n",
    "\n",
    "The task is to classify the older and younger version of the actors. There are 4 flavors of each class.\n",
    "- Class 1: Young (FG03, MG03, FP03, MP03)\n",
    "- Class 2: Old (FG18, MG18, FP18, MP18)\n",
    "\n",
    "Train size: 135\n",
    "\n",
    "Test size: 316\n",
    "\n",
    "Number of classes: 2\n",
    "\n",
    "Missing value: No\n",
    "\n",
    "Time series length: 150\n",
    "\n",
    "There is nothing to infer from the order of examples in the train and test set.\n",
    "\n",
    "Data created by Ann Ratanamahatana and Eamonn Keogh. Data edited by Hoang Anh Dau.\n",
    "\n"
   ]
  },
  {
   "cell_type": "code",
   "execution_count": 4,
   "id": "81c56221",
   "metadata": {},
   "outputs": [],
   "source": [
    "setwd(\"C:/Users/a_kok/Desktop/Dersler/IE 48B/HW3\")\n",
    "gunpoint_train <- fread(\"GunPointOldVersusYoung_TRAIN.txt\")\n",
    "gunpoint_test <- fread(\"GunPointOldVersusYoung_TEST.txt\")"
   ]
  },
  {
   "cell_type": "code",
   "execution_count": 5,
   "id": "b38fce68",
   "metadata": {},
   "outputs": [],
   "source": [
    "setnames(gunpoint_train,\"V1\",\"class\")\n",
    "gunpoint_train=gunpoint_train[order(class)]\n",
    "gunpoint_train[,class:=as.character(class)]\n",
    "gunpoint_train[,id:=1:.N]\n",
    "long_gunpoint_train=melt(gunpoint_train,id.vars=c('id','class'))\n",
    "long_gunpoint_train[,time:=as.numeric(gsub(\"\\\\D\", \"\", variable))-1]\n",
    "long_gunpoint_train=long_gunpoint_train[,list(id,class,time,value)]\n",
    "long_gunpoint_train=long_gunpoint_train[order(id,time)]"
   ]
  },
  {
   "cell_type": "markdown",
   "id": "ffff1b79",
   "metadata": {},
   "source": [
    "Representations of three instances from both classes."
   ]
  },
  {
   "cell_type": "code",
   "execution_count": 129,
   "id": "18394d9d",
   "metadata": {},
   "outputs": [
    {
     "data": {
      "image/png": "[encoded data removed]",
      "text/plain": [
       "Plot with title \"Gunpoint old versus young\""
      ]
     },
     "metadata": {
      "image/png": {
       "height": 420,
       "width": 420
      }
     },
     "output_type": "display_data"
    }
   ],
   "source": [
    "plot(x = long_gunpoint_train[id == 1 & class == 1]$time,y = long_gunpoint_train[id == 1 & class == 1]$value,\n",
    "    xlab = \"Time\",ylab = \"Coordinates\",main = \"Gunpoint old versus young\")"
   ]
  },
  {
   "cell_type": "code",
   "execution_count": 130,
   "id": "f1f2a30e",
   "metadata": {},
   "outputs": [
    {
     "data": {
      "image/png": "[encoded data removed]",
      "text/plain": [
       "Plot with title \"Gunpoint old versus young\""
      ]
     },
     "metadata": {
      "image/png": {
       "height": 420,
       "width": 420
      }
     },
     "output_type": "display_data"
    }
   ],
   "source": [
    "plot(x = long_gunpoint_train[id == 10 & class == 1]$time,y = long_gunpoint_train[id == 10 & class == 1]$value,\n",
    "    xlab = \"Time\",ylab = \"Coordinates\",main = \"Gunpoint old versus young\")"
   ]
  },
  {
   "cell_type": "code",
   "execution_count": 131,
   "id": "6702ea43",
   "metadata": {},
   "outputs": [
    {
     "data": {
      "image/png": "[encoded data removed]",
      "text/plain": [
       "Plot with title \"Gunpoint old versus young\""
      ]
     },
     "metadata": {
      "image/png": {
       "height": 420,
       "width": 420
      }
     },
     "output_type": "display_data"
    }
   ],
   "source": [
    "plot(x = long_gunpoint_train[id == 20 & class == 1]$time,y = long_gunpoint_train[id == 20 & class == 1]$value,\n",
    "    xlab = \"Time\",ylab = \"Coordinates\",main = \"Gunpoint old versus young\")"
   ]
  },
  {
   "cell_type": "code",
   "execution_count": 132,
   "id": "a7777d4f",
   "metadata": {},
   "outputs": [
    {
     "data": {
      "image/png": "[encoded data removed]",
      "text/plain": [
       "Plot with title \"Gunpoint old versus young\""
      ]
     },
     "metadata": {
      "image/png": {
       "height": 420,
       "width": 420
      }
     },
     "output_type": "display_data"
    }
   ],
   "source": [
    "plot(x = long_gunpoint_train[id == 30 & class == 1]$time,y = long_gunpoint_train[id == 30 & class == 1]$value,\n",
    "    xlab = \"Time\",ylab = \"Coordinates\",main = \"Gunpoint old versus young\")"
   ]
  },
  {
   "cell_type": "code",
   "execution_count": 133,
   "id": "6b2fa98b",
   "metadata": {},
   "outputs": [
    {
     "data": {
      "image/png": "[encoded data removed]",
      "text/plain": [
       "Plot with title \"Gunpoint old versus young\""
      ]
     },
     "metadata": {
      "image/png": {
       "height": 420,
       "width": 420
      }
     },
     "output_type": "display_data"
    }
   ],
   "source": [
    "plot(x = long_gunpoint_train[id == 130 & class == 2]$time,y = long_gunpoint_train[id == 130 & class == 2]$value,\n",
    "    xlab = \"Time\",ylab = \"Coordinates\",main = \"Gunpoint old versus young\")"
   ]
  },
  {
   "cell_type": "code",
   "execution_count": 134,
   "id": "4504ea7f",
   "metadata": {},
   "outputs": [
    {
     "data": {
      "image/png": "[encoded data removed]",
      "text/plain": [
       "Plot with title \"Gunpoint old versus young\""
      ]
     },
     "metadata": {
      "image/png": {
       "height": 420,
       "width": 420
      }
     },
     "output_type": "display_data"
    }
   ],
   "source": [
    "plot(x = long_gunpoint_train[id == 120 & class == 2]$time,y = long_gunpoint_train[id == 120 & class == 2]$value,\n",
    "    xlab = \"Time\",ylab = \"Coordinates\",main = \"Gunpoint old versus young\")"
   ]
  },
  {
   "cell_type": "code",
   "execution_count": 135,
   "id": "5481cd54",
   "metadata": {},
   "outputs": [
    {
     "data": {
      "image/png": "[encoded data removed]",
      "text/plain": [
       "Plot with title \"Gunpoint old versus young\""
      ]
     },
     "metadata": {
      "image/png": {
       "height": 420,
       "width": 420
      }
     },
     "output_type": "display_data"
    }
   ],
   "source": [
    "plot(x = long_gunpoint_train[id == 110 & class == 2]$time,y = long_gunpoint_train[id == 110 & class == 2]$value,\n",
    "    xlab = \"Time\",ylab = \"Coordinates\",main = \"Gunpoint old versus young\")"
   ]
  },
  {
   "cell_type": "code",
   "execution_count": 136,
   "id": "0ab73e0d",
   "metadata": {},
   "outputs": [
    {
     "data": {
      "image/png": "[encoded data removed]",
      "text/plain": [
       "Plot with title \"Gunpoint old versus young\""
      ]
     },
     "metadata": {
      "image/png": {
       "height": 420,
       "width": 420
      }
     },
     "output_type": "display_data"
    }
   ],
   "source": [
    "plot(x = long_gunpoint_train[id == 100 & class == 2]$time,y = long_gunpoint_train[id == 100 & class == 2]$value,\n",
    "    xlab = \"Time\",ylab = \"Coordinates\",main = \"Gunpoint old versus young\")"
   ]
  },
  {
   "cell_type": "code",
   "execution_count": 14,
   "id": "5b2681dd",
   "metadata": {},
   "outputs": [],
   "source": [
    "# Tree Piecewise Representation\n",
    "gunpoint_train = gunpoint_train[,2:(ncol(gunpoint_train)-1)]"
   ]
  },
  {
   "cell_type": "markdown",
   "id": "60a0f363",
   "metadata": {},
   "source": [
    "Tree piecewise representation are done with maxdepth parameters 2,3 and 4."
   ]
  },
  {
   "cell_type": "code",
   "execution_count": 15,
   "id": "ef79811b",
   "metadata": {},
   "outputs": [],
   "source": [
    "for (i in 1:length(unique(long_gunpoint_train$id))){\n",
    "tree_fit <- rpart(value~time,data = long_gunpoint_train[id == i],control = rpart.control(maxdepth = 2))\n",
    "long_gunpoint_train[id == i,tree_piecewise_2:=predict(tree_fit,long_gunpoint_train[id == i])]\n",
    "}\n",
    "\n",
    "for (i in 1:length(unique(long_gunpoint_train$id))){\n",
    "tree_fit <- rpart(value~time,data = long_gunpoint_train[id == i],control = rpart.control(maxdepth = 3))\n",
    "long_gunpoint_train[id == i,tree_piecewise_3:=predict(tree_fit,long_gunpoint_train[id == i])]\n",
    "}\n",
    "\n",
    "for (i in 1:length(unique(long_gunpoint_train$id))){\n",
    "tree_fit <- rpart(value~time,data = long_gunpoint_train[id == i],control = rpart.control(maxdepth = 4))\n",
    "long_gunpoint_train[id == i,tree_piecewise_4:=predict(tree_fit,long_gunpoint_train[id == i])]\n",
    "}"
   ]
  },
  {
   "cell_type": "code",
   "execution_count": 138,
   "id": "213e0eff",
   "metadata": {},
   "outputs": [
    {
     "data": {
      "image/png": "[encoded data removed]",
      "text/plain": [
       "Plot with title \"Gunpoint old versus young\""
      ]
     },
     "metadata": {
      "image/png": {
       "height": 420,
       "width": 420
      }
     },
     "output_type": "display_data"
    }
   ],
   "source": [
    "plot(x = long_gunpoint_train[id == 10 & class == 1]$time,y = long_gunpoint_train[id == 10 & class == 1]$tree_piecewise_2,\n",
    "    xlab = \"Time\",ylab = \"Coordinates\",main = \"Gunpoint old versus young\")"
   ]
  },
  {
   "cell_type": "code",
   "execution_count": 139,
   "id": "9c80a1dc",
   "metadata": {},
   "outputs": [
    {
     "data": {
      "image/png": "[encoded data removed]",
      "text/plain": [
       "Plot with title \"Gunpoint old versus young\""
      ]
     },
     "metadata": {
      "image/png": {
       "height": 420,
       "width": 420
      }
     },
     "output_type": "display_data"
    }
   ],
   "source": [
    "plot(x = long_gunpoint_train[id == 10 & class == 1]$time,y = long_gunpoint_train[id == 10 & class == 1]$value,\n",
    "    xlab = \"Time\",ylab = \"Coordinates\",main = \"Gunpoint old versus young\")"
   ]
  },
  {
   "cell_type": "markdown",
   "id": "fa173e0f",
   "metadata": {},
   "source": [
    "Piecewise Aggregate Approximation representations are created with the segment length parameters 5, 10 and 20."
   ]
  },
  {
   "cell_type": "code",
   "execution_count": 18,
   "id": "85de30c4",
   "metadata": {},
   "outputs": [],
   "source": [
    "for (i in 1:length(unique(long_gunpoint_train$id))){\n",
    "data_instance = long_gunpoint_train[id == i]\n",
    "#data_instance[,paa_reps:=NULL]\n",
    "segment_length=5\n",
    "paa_reps=repr_paa(data_instance$value, segment_length, meanC)\n",
    "dummy_time=c(1:(length(paa_reps)-1))*segment_length \n",
    "dummy_time=c(dummy_time,nrow(data_instance))\n",
    "dt_paa=data.table(time=dummy_time,paa_reps=paa_reps)\n",
    "data_instance=merge(data_instance,dt_paa,by='time',all.x=T)\n",
    "data_instance[,paa_reps:=nafill(paa_reps,'nocb')]\n",
    "long_gunpoint_train[id == i,\"paa_reps_5\"] = data_instance[,\"paa_reps\"]\n",
    "}\n",
    "\n",
    "for (i in 1:length(unique(long_gunpoint_train$id))){\n",
    "data_instance = long_gunpoint_train[id == i]\n",
    "#data_instance[,paa_reps:=NULL]\n",
    "segment_length=10\n",
    "paa_reps=repr_paa(data_instance$value, segment_length, meanC)\n",
    "dummy_time=c(1:(length(paa_reps)-1))*segment_length \n",
    "dummy_time=c(dummy_time,nrow(data_instance))\n",
    "dt_paa=data.table(time=dummy_time,paa_reps=paa_reps)\n",
    "data_instance=merge(data_instance,dt_paa,by='time',all.x=T)\n",
    "data_instance[,paa_reps:=nafill(paa_reps,'nocb')]\n",
    "long_gunpoint_train[id == i,\"paa_reps_10\"] = data_instance[,\"paa_reps\"]\n",
    "}\n",
    "\n",
    "for (i in 1:length(unique(long_gunpoint_train$id))){\n",
    "data_instance = long_gunpoint_train[id == i]\n",
    "#data_instance[,paa_reps:=NULL]\n",
    "segment_length=20\n",
    "paa_reps=repr_paa(data_instance$value, segment_length, meanC)\n",
    "dummy_time=c(1:(length(paa_reps)-1))*segment_length \n",
    "dummy_time=c(dummy_time,nrow(data_instance))\n",
    "dt_paa=data.table(time=dummy_time,paa_reps=paa_reps)\n",
    "data_instance=merge(data_instance,dt_paa,by='time',all.x=T)\n",
    "data_instance[,paa_reps:=nafill(paa_reps,'nocb')]\n",
    "long_gunpoint_train[id == i,\"paa_reps_20\"] = data_instance[,\"paa_reps\"]\n",
    "}"
   ]
  },
  {
   "cell_type": "code",
   "execution_count": 140,
   "id": "8cb2cc2a",
   "metadata": {},
   "outputs": [
    {
     "data": {
      "image/png": "[encoded data removed]",
      "text/plain": [
       "Plot with title \"Gunpoint old versus young\""
      ]
     },
     "metadata": {
      "image/png": {
       "height": 420,
       "width": 420
      }
     },
     "output_type": "display_data"
    }
   ],
   "source": [
    "plot(x = long_gunpoint_train[id == 10 & class == 1]$time,y = long_gunpoint_train[id == 10 & class == 1]$paa_reps_5,\n",
    "    xlab = \"Time\",ylab = \"Coordinates\",main = \"Gunpoint old versus young\")"
   ]
  },
  {
   "cell_type": "code",
   "execution_count": 141,
   "id": "6be9882c",
   "metadata": {},
   "outputs": [
    {
     "data": {
      "image/png": "[encoded data removed]",
      "text/plain": [
       "Plot with title \"Gunpoint old versus young\""
      ]
     },
     "metadata": {
      "image/png": {
       "height": 420,
       "width": 420
      }
     },
     "output_type": "display_data"
    }
   ],
   "source": [
    "plot(x = long_gunpoint_train[id == 10 & class == 1]$time,y = long_gunpoint_train[id == 10 & class == 1]$tree_piecewise_2,\n",
    "    xlab = \"Time\",ylab = \"Coordinates\",main = \"Gunpoint old versus young\")"
   ]
  },
  {
   "cell_type": "code",
   "execution_count": 142,
   "id": "772d5837",
   "metadata": {},
   "outputs": [
    {
     "data": {
      "image/png": "[encoded data removed]",
      "text/plain": [
       "Plot with title \"Gunpoint old versus young\""
      ]
     },
     "metadata": {
      "image/png": {
       "height": 420,
       "width": 420
      }
     },
     "output_type": "display_data"
    }
   ],
   "source": [
    "plot(x = long_gunpoint_train[id == 10 & class == 1]$time,y = long_gunpoint_train[id == 10 & class == 1]$value,\n",
    "    xlab = \"Time\",ylab = \"Coordinates\",main = \"Gunpoint old versus young\")"
   ]
  },
  {
   "cell_type": "markdown",
   "id": "3279d885",
   "metadata": {},
   "source": [
    "Representations and raw dataset converted to matrix in order to calculate distance matrices"
   ]
  },
  {
   "cell_type": "code",
   "execution_count": 22,
   "id": "5551dbb9",
   "metadata": {},
   "outputs": [],
   "source": [
    "gunpoint_train_raw = data.frame()\n",
    "for(i in 1:length(unique(long_gunpoint_train$id))){\n",
    "gunpoint_train_raw = rbind(gunpoint_train_raw,t(as.data.frame(long_gunpoint_train[id == i]$value)))\n",
    "}\n",
    "row.names(gunpoint_train_raw) <- NULL"
   ]
  },
  {
   "cell_type": "code",
   "execution_count": 23,
   "id": "f2184b94",
   "metadata": {},
   "outputs": [],
   "source": [
    "gunpoint_train_piecewise_2 = data.frame()\n",
    "for(i in 1:length(unique(long_gunpoint_train$id))){\n",
    "    gunpoint_train_piecewise_2 = rbind(gunpoint_train_piecewise_2,t(as.data.frame(long_gunpoint_train[id == i]$tree_piecewise_2)))\n",
    "}\n",
    "\n",
    "gunpoint_train_piecewise_3 = data.frame()\n",
    "for(i in 1:length(unique(long_gunpoint_train$id))){\n",
    "    gunpoint_train_piecewise_3 = rbind(gunpoint_train_piecewise_3,t(as.data.frame(long_gunpoint_train[id == i]$tree_piecewise_3)))\n",
    "}\n",
    "\n",
    "gunpoint_train_piecewise_4 = data.frame()\n",
    "for(i in 1:length(unique(long_gunpoint_train$id))){\n",
    "    gunpoint_train_piecewise_4 = rbind(gunpoint_train_piecewise_4,t(as.data.frame(long_gunpoint_train[id == i]$tree_piecewise_4)))\n",
    "}\n",
    "row.names(gunpoint_train_piecewise_2) <- NULL\n",
    "row.names(gunpoint_train_piecewise_3) <- NULL\n",
    "row.names(gunpoint_train_piecewise_4) <- NULL"
   ]
  },
  {
   "cell_type": "code",
   "execution_count": 24,
   "id": "ae401b99",
   "metadata": {},
   "outputs": [],
   "source": [
    "gunpoint_train_paa_reps_5 = data.frame()\n",
    "for(i in 1:length(unique(long_gunpoint_train$id))){\n",
    "    gunpoint_train_paa_reps_5 = rbind(gunpoint_train_paa_reps_5,t(as.data.frame(long_gunpoint_train[id == i]$paa_reps_5)))\n",
    "}\n",
    "\n",
    "gunpoint_train_paa_reps_10 = data.frame()\n",
    "for(i in 1:length(unique(long_gunpoint_train$id))){\n",
    "    gunpoint_train_paa_reps_10 = rbind(gunpoint_train_paa_reps_10,t(as.data.frame(long_gunpoint_train[id == i]$paa_reps_10)))\n",
    "}\n",
    "\n",
    "gunpoint_train_paa_reps_20 = data.frame()\n",
    "for(i in 1:length(unique(long_gunpoint_train$id))){\n",
    "    gunpoint_train_paa_reps_20 = rbind(gunpoint_train_paa_reps_20,t(as.data.frame(long_gunpoint_train[id == i]$paa_reps_20)))\n",
    "}\n",
    "row.names(gunpoint_train_paa_reps_5) <- NULL\n",
    "row.names(gunpoint_train_paa_reps_10) <- NULL\n",
    "row.names(gunpoint_train_paa_reps_20) <- NULL"
   ]
  },
  {
   "cell_type": "code",
   "execution_count": 25,
   "id": "30feffd1",
   "metadata": {},
   "outputs": [],
   "source": [
    "matrices = vector(mode = \"list\",length = 7)\n",
    "matrices[[1]] = gunpoint_train_raw\n",
    "matrices[[2]] = gunpoint_train_piecewise_2\n",
    "matrices[[3]] = gunpoint_train_piecewise_3\n",
    "matrices[[4]] = gunpoint_train_piecewise_4\n",
    "matrices[[5]] = gunpoint_train_paa_reps_5\n",
    "matrices[[6]] = gunpoint_train_paa_reps_10\n",
    "matrices[[7]] = gunpoint_train_paa_reps_20"
   ]
  },
  {
   "cell_type": "code",
   "execution_count": 26,
   "id": "0a829179",
   "metadata": {},
   "outputs": [],
   "source": [
    "trainclass = c()\n",
    "for(i in 1:length(unique(long_gunpoint_train$id))){\n",
    "    trainclass = c(trainclass,unique(long_gunpoint_train[id==i,class]))\n",
    "}"
   ]
  },
  {
   "cell_type": "code",
   "execution_count": 27,
   "id": "f3f0f58d",
   "metadata": {},
   "outputs": [],
   "source": [
    "set.seed(500)\n",
    "nof_rep=5\n",
    "n_fold=10\n",
    "cv_indices=generateCVRuns(trainclass, ntimes =nof_rep, nfold = n_fold, \n",
    "                          leaveOneOut = FALSE, stratified = TRUE)"
   ]
  },
  {
   "cell_type": "code",
   "execution_count": 28,
   "id": "ab900fd8",
   "metadata": {},
   "outputs": [],
   "source": [
    "distances = vector(mode = \"list\",length = 7*4)\n",
    "\n",
    "for(i in 1:7){\n",
    "    large_number = 100000\n",
    "    gunpoint_dist_euc=as.matrix(dist(matrices[[i]]))\n",
    "    diag(gunpoint_dist_euc)=large_number\n",
    "\n",
    "    gunpoint_dist_dtw=as.matrix(dtwDist(matrices[[i]]))\n",
    "    diag(gunpoint_dist_dtw)=large_number\n",
    "\n",
    "    gunpoint_dist_lcss=TSDatabaseDistances(matrices[[i]],distance='lcss',epsilon=0.05)\n",
    "    gunpoint_dist_lcss=as.matrix(gunpoint_dist_lcss)\n",
    "    diag(gunpoint_dist_lcss)=large_number \n",
    "\n",
    "    gunpoint_dist_manhattan=as.matrix(dist(matrices[[i]], method = \"manhattan\"))\n",
    "    diag(gunpoint_dist_manhattan)=large_number\n",
    "    \n",
    "    distances[[1 + (i-1)*4]] = gunpoint_dist_euc\n",
    "    distances[[2 + (i-1)*4]] = gunpoint_dist_dtw\n",
    "    distances[[3 + (i-1)*4]] = gunpoint_dist_lcss\n",
    "    distances[[4 + (i-1)*4]] = gunpoint_dist_manhattan\n",
    "}\n"
   ]
  },
  {
   "cell_type": "code",
   "execution_count": 29,
   "id": "b881b8dd",
   "metadata": {},
   "outputs": [],
   "source": [
    "k_levels=c(1,3,5)\n",
    "result=vector('list',length(distances)*nof_rep*n_fold*length(k_levels))\n",
    "iter=1\n",
    "for(m in 1:length(distances)){ #\n",
    "    dist_mat = distances[[m]]\n",
    "    for(i in 1:nof_rep){\n",
    "        this_fold=cv_indices[[i]]\n",
    "        for(j in 1:n_fold){\n",
    "            test_indices=this_fold[[j]]\n",
    "            for(k in 1:length(k_levels)){\n",
    "                current_k=k_levels[k]\n",
    "                current_fold=nn_classify_cv(dist_mat,trainclass,test_indices,k=current_k)\n",
    "                accuracy=sum(trainclass[test_indices]==current_fold$prediction$predicted)/length(test_indices)\n",
    "                tmp=data.table(approach=paste(\"distance:\",m),repid=i,foldid=j,\n",
    "                               k=current_k,acc=accuracy)\n",
    "                result[[iter]]=tmp\n",
    "                iter=iter+1\n",
    "                \n",
    "            }\n",
    "            \n",
    "        }\n",
    "    \n",
    "    }   \n",
    "    \n",
    "}"
   ]
  },
  {
   "cell_type": "code",
   "execution_count": 30,
   "id": "525168ef",
   "metadata": {},
   "outputs": [],
   "source": [
    "overall_results=rbindlist(result)\n",
    "summarized_results=overall_results[,list(avg_acc=mean(acc),sdev_acc=sd(acc),result_count=.N),by=list(approach,k)]"
   ]
  },
  {
   "cell_type": "code",
   "execution_count": 31,
   "id": "e2fcd5e0",
   "metadata": {},
   "outputs": [
    {
     "data": {
      "text/html": [
       "<table class=\"dataframe\">\n",
       "<caption>A data.table: 6 × 5</caption>\n",
       "<thead>\n",
       "\t<tr><th scope=col>approach</th><th scope=col>k</th><th scope=col>avg_acc</th><th scope=col>sdev_acc</th><th scope=col>result_count</th></tr>\n",
       "\t<tr><th scope=col>&lt;chr&gt;</th><th scope=col>&lt;dbl&gt;</th><th scope=col>&lt;dbl&gt;</th><th scope=col>&lt;dbl&gt;</th><th scope=col>&lt;int&gt;</th></tr>\n",
       "</thead>\n",
       "<tbody>\n",
       "\t<tr><td>distance: 2 </td><td>5</td><td>1</td><td>0</td><td>50</td></tr>\n",
       "\t<tr><td>distance: 4 </td><td>5</td><td>1</td><td>0</td><td>50</td></tr>\n",
       "\t<tr><td>distance: 6 </td><td>5</td><td>1</td><td>0</td><td>50</td></tr>\n",
       "\t<tr><td>distance: 8 </td><td>5</td><td>1</td><td>0</td><td>50</td></tr>\n",
       "\t<tr><td>distance: 10</td><td>5</td><td>1</td><td>0</td><td>50</td></tr>\n",
       "\t<tr><td>distance: 13</td><td>5</td><td>1</td><td>0</td><td>50</td></tr>\n",
       "</tbody>\n",
       "</table>\n"
      ],
      "text/latex": [
       "A data.table: 6 × 5\n",
       "\\begin{tabular}{lllll}\n",
       " approach & k & avg\\_acc & sdev\\_acc & result\\_count\\\\\n",
       " <chr> & <dbl> & <dbl> & <dbl> & <int>\\\\\n",
       "\\hline\n",
       "\t distance: 2  & 5 & 1 & 0 & 50\\\\\n",
       "\t distance: 4  & 5 & 1 & 0 & 50\\\\\n",
       "\t distance: 6  & 5 & 1 & 0 & 50\\\\\n",
       "\t distance: 8  & 5 & 1 & 0 & 50\\\\\n",
       "\t distance: 10 & 5 & 1 & 0 & 50\\\\\n",
       "\t distance: 13 & 5 & 1 & 0 & 50\\\\\n",
       "\\end{tabular}\n"
      ],
      "text/markdown": [
       "\n",
       "A data.table: 6 × 5\n",
       "\n",
       "| approach &lt;chr&gt; | k &lt;dbl&gt; | avg_acc &lt;dbl&gt; | sdev_acc &lt;dbl&gt; | result_count &lt;int&gt; |\n",
       "|---|---|---|---|---|\n",
       "| distance: 2  | 5 | 1 | 0 | 50 |\n",
       "| distance: 4  | 5 | 1 | 0 | 50 |\n",
       "| distance: 6  | 5 | 1 | 0 | 50 |\n",
       "| distance: 8  | 5 | 1 | 0 | 50 |\n",
       "| distance: 10 | 5 | 1 | 0 | 50 |\n",
       "| distance: 13 | 5 | 1 | 0 | 50 |\n",
       "\n"
      ],
      "text/plain": [
       "  approach     k avg_acc sdev_acc result_count\n",
       "1 distance: 2  5 1       0        50          \n",
       "2 distance: 4  5 1       0        50          \n",
       "3 distance: 6  5 1       0        50          \n",
       "4 distance: 8  5 1       0        50          \n",
       "5 distance: 10 5 1       0        50          \n",
       "6 distance: 13 5 1       0        50          "
      ]
     },
     "metadata": {},
     "output_type": "display_data"
    }
   ],
   "source": [
    "head(summarized_results[order(-avg_acc)])"
   ]
  },
  {
   "cell_type": "code",
   "execution_count": 32,
   "id": "c0353e70",
   "metadata": {},
   "outputs": [],
   "source": [
    "test_classes = gunpoint_test$V1\n",
    "gunpoint_test = gunpoint_test[,2:ncol(gunpoint_test)]"
   ]
  },
  {
   "cell_type": "code",
   "execution_count": 33,
   "id": "a68761d2",
   "metadata": {},
   "outputs": [],
   "source": [
    "gunpoint_dist_dtw_test=as.matrix(dtwDist(mx = gunpoint_test,my = matrices[[1]]))\n",
    "diag(gunpoint_dist_dtw_test)=large_number"
   ]
  },
  {
   "cell_type": "code",
   "execution_count": 34,
   "id": "4bce5d33",
   "metadata": {},
   "outputs": [
    {
     "data": {
      "text/plain": [
       "            \n",
       "test_classes   1   2\n",
       "           1 150   0\n",
       "           2   0 165"
      ]
     },
     "metadata": {},
     "output_type": "display_data"
    },
    {
     "name": "stdout",
     "output_type": "stream",
     "text": [
      "[1] 1\n"
     ]
    }
   ],
   "source": [
    "ordered_indices=apply(gunpoint_dist_dtw_test,1,order)\n",
    "nearest_class=apply(ordered_indices[1:5,],2,function(x) {trainclass[x]})\n",
    "nearest_class=data.table(id=1:nrow(gunpoint_test),t(nearest_class))\n",
    "long_nn_class=melt(nearest_class,'id')\n",
    "class_counts=long_nn_class[,.N,list(id,value)]\n",
    "class_counts[,predicted_prob:=N/5]\n",
    "wide_class_prob_predictions=dcast(class_counts,id~value,value.var='predicted_prob')\n",
    "wide_class_prob_predictions[is.na(wide_class_prob_predictions)]=0\n",
    "class_predictions=class_counts[,list(predicted=value[which.max(N)]),by=list(id)]\n",
    "\n",
    "table(test_classes,class_predictions$predicted)\n",
    "\n",
    "acc=sum(test_classes==class_predictions$predicted)/length(class_predictions$predicted)\n",
    "print(acc)"
   ]
  },
  {
   "cell_type": "markdown",
   "id": "a67edc83",
   "metadata": {},
   "source": [
    "# 2) PowerCons"
   ]
  },
  {
   "cell_type": "markdown",
   "id": "0ab44509",
   "metadata": {},
   "source": [
    "The PowerCons dataset contains the individual household electric power consumption in one year distributed in two season classes: warm (class 1) and cold (class 2), depending on whether the power consumption is recorded during the warm seasons (from April to September) or the cold seasons (from October to March). Note that the electric power consumption profiles differ markedly within classes. The sampling rate is every ten-minute over a period of one year. Number of classes: 2 - Class 1: Warm season - Class 2: Cold season Missing value: No Source: EDF R&D, Clamart, France"
   ]
  },
  {
   "cell_type": "code",
   "execution_count": 35,
   "id": "b21f2fef",
   "metadata": {},
   "outputs": [],
   "source": [
    "powercons_train <- fread(\"PowerCons_TRAIN.txt\")\n",
    "powercons_test <- fread(\"PowerCons_TEST.txt\")\n",
    "\n",
    "setnames(powercons_train,\"V1\",\"class\")\n",
    "powercons_train=powercons_train[order(class)]\n",
    "powercons_train[,class:=as.character(class)]\n",
    "powercons_train[,id:=1:.N]\n",
    "long_powercons_train=melt(powercons_train,id.vars=c('id','class'))\n",
    "long_powercons_train[,time:=as.numeric(gsub(\"\\\\D\", \"\", variable))-1]\n",
    "long_powercons_train=long_powercons_train[,list(id,class,time,value)]\n",
    "long_powercons_train=long_powercons_train[order(id,time)]\n",
    "\n",
    "powercons_train = powercons_train[,2:(ncol(powercons_train)-1)]\n",
    "\n",
    "for (i in 1:length(unique(long_powercons_train$id))){\n",
    "tree_fit <- rpart(value~time,data = long_powercons_train[id == i],control = rpart.control(maxdepth = 2))\n",
    "long_powercons_train[id == i,tree_piecewise_2:=predict(tree_fit,long_powercons_train[id == i])]\n",
    "}\n",
    "\n",
    "for (i in 1:length(unique(long_powercons_train$id))){\n",
    "tree_fit <- rpart(value~time,data = long_powercons_train[id == i],control = rpart.control(maxdepth = 3))\n",
    "long_powercons_train[id == i,tree_piecewise_3:=predict(tree_fit,long_powercons_train[id == i])]\n",
    "}\n",
    "\n",
    "for (i in 1:length(unique(long_powercons_train$id))){\n",
    "tree_fit <- rpart(value~time,data = long_powercons_train[id == i],control = rpart.control(maxdepth = 4))\n",
    "long_powercons_train[id == i,tree_piecewise_4:=predict(tree_fit,long_powercons_train[id == i])]\n",
    "}\n",
    "\n",
    "for (i in 1:length(unique(long_powercons_train$id))){\n",
    "data_instance = long_powercons_train[id == i]\n",
    "#data_instance[,paa_reps:=NULL]\n",
    "segment_length=5\n",
    "paa_reps=repr_paa(data_instance$value, segment_length, meanC)\n",
    "dummy_time=c(1:(length(paa_reps)-1))*segment_length \n",
    "dummy_time=c(dummy_time,nrow(data_instance))\n",
    "dt_paa=data.table(time=dummy_time,paa_reps=paa_reps)\n",
    "data_instance=merge(data_instance,dt_paa,by='time',all.x=T)\n",
    "data_instance[,paa_reps:=nafill(paa_reps,'nocb')]\n",
    "long_powercons_train[id == i,\"paa_reps_5\"] = data_instance[,\"paa_reps\"]\n",
    "}\n",
    "\n",
    "for (i in 1:length(unique(long_powercons_train$id))){\n",
    "data_instance = long_powercons_train[id == i]\n",
    "#data_instance[,paa_reps:=NULL]\n",
    "segment_length=10\n",
    "paa_reps=repr_paa(data_instance$value, segment_length, meanC)\n",
    "dummy_time=c(1:(length(paa_reps)-1))*segment_length \n",
    "dummy_time=c(dummy_time,nrow(data_instance))\n",
    "dt_paa=data.table(time=dummy_time,paa_reps=paa_reps)\n",
    "data_instance=merge(data_instance,dt_paa,by='time',all.x=T)\n",
    "data_instance[,paa_reps:=nafill(paa_reps,'nocb')]\n",
    "long_powercons_train[id == i,\"paa_reps_10\"] = data_instance[,\"paa_reps\"]\n",
    "}\n",
    "\n",
    "for (i in 1:length(unique(long_powercons_train$id))){\n",
    "data_instance = long_powercons_train[id == i]\n",
    "#data_instance[,paa_reps:=NULL]\n",
    "segment_length=20\n",
    "paa_reps=repr_paa(data_instance$value, segment_length, meanC)\n",
    "dummy_time=c(1:(length(paa_reps)-1))*segment_length \n",
    "dummy_time=c(dummy_time,nrow(data_instance))\n",
    "dt_paa=data.table(time=dummy_time,paa_reps=paa_reps)\n",
    "data_instance=merge(data_instance,dt_paa,by='time',all.x=T)\n",
    "data_instance[,paa_reps:=nafill(paa_reps,'nocb')]\n",
    "long_powercons_train[id == i,\"paa_reps_20\"] = data_instance[,\"paa_reps\"]\n",
    "}\n"
   ]
  },
  {
   "cell_type": "code",
   "execution_count": 36,
   "id": "0f0978aa",
   "metadata": {},
   "outputs": [],
   "source": [
    "powercons_train_raw = data.frame()\n",
    "for(i in 1:length(unique(long_powercons_train$id))){\n",
    "powercons_train_raw = rbind(powercons_train_raw,t(as.data.frame(long_powercons_train[id == i]$value)))\n",
    "}\n",
    "row.names(powercons_train_raw) <- NULL\n",
    "\n",
    "powercons_train_piecewise_2 = data.frame()\n",
    "for(i in 1:length(unique(long_powercons_train$id))){\n",
    "    powercons_train_piecewise_2 = rbind(powercons_train_piecewise_2,t(as.data.frame(long_powercons_train[id == i]$tree_piecewise_2)))\n",
    "}\n",
    "\n",
    "powercons_train_piecewise_3 = data.frame()\n",
    "for(i in 1:length(unique(long_powercons_train$id))){\n",
    "    powercons_train_piecewise_3 = rbind(powercons_train_piecewise_3,t(as.data.frame(long_powercons_train[id == i]$tree_piecewise_3)))\n",
    "}\n",
    "\n",
    "powercons_train_piecewise_4 = data.frame()\n",
    "for(i in 1:length(unique(long_powercons_train$id))){\n",
    "    powercons_train_piecewise_4 = rbind(powercons_train_piecewise_4,t(as.data.frame(long_powercons_train[id == i]$tree_piecewise_4)))\n",
    "}\n",
    "row.names(powercons_train_piecewise_2) <- NULL\n",
    "row.names(powercons_train_piecewise_3) <- NULL\n",
    "row.names(powercons_train_piecewise_4) <- NULL\n",
    "\n",
    "powercons_train_paa_reps_5 = data.frame()\n",
    "for(i in 1:length(unique(long_powercons_train$id))){\n",
    "    powercons_train_paa_reps_5 = rbind(powercons_train_paa_reps_5,t(as.data.frame(long_powercons_train[id == i]$paa_reps_5)))\n",
    "}\n",
    "\n",
    "powercons_train_paa_reps_10 = data.frame()\n",
    "for(i in 1:length(unique(long_powercons_train$id))){\n",
    "    powercons_train_paa_reps_10 = rbind(powercons_train_paa_reps_10,t(as.data.frame(long_powercons_train[id == i]$paa_reps_10)))\n",
    "}\n",
    "\n",
    "powercons_train_paa_reps_20 = data.frame()\n",
    "for(i in 1:length(unique(long_powercons_train$id))){\n",
    "    powercons_train_paa_reps_20 = rbind(powercons_train_paa_reps_20,t(as.data.frame(long_powercons_train[id == i]$paa_reps_20)))\n",
    "}\n",
    "row.names(powercons_train_paa_reps_5) <- NULL\n",
    "row.names(powercons_train_paa_reps_10) <- NULL\n",
    "row.names(powercons_train_paa_reps_20) <- NULL"
   ]
  },
  {
   "cell_type": "code",
   "execution_count": 37,
   "id": "4499b519",
   "metadata": {},
   "outputs": [],
   "source": [
    "trainclass_powercons = c()\n",
    "for(i in 1:length(unique(long_powercons_train$id))){\n",
    "    trainclass_powercons = c(trainclass_powercons,unique(long_powercons_train[id==i,class]))\n",
    "}"
   ]
  },
  {
   "cell_type": "code",
   "execution_count": 221,
   "id": "947a8bc0",
   "metadata": {},
   "outputs": [],
   "source": [
    "set.seed(500)\n",
    "nof_rep=5\n",
    "n_fold=10\n",
    "cv_indices=generateCVRuns(trainclass_powercons, ntimes =nof_rep, nfold = n_fold, \n",
    "                          leaveOneOut = FALSE, stratified = TRUE)"
   ]
  },
  {
   "cell_type": "code",
   "execution_count": 38,
   "id": "d0f7b733",
   "metadata": {},
   "outputs": [],
   "source": [
    "matrices_powercons = vector(mode = \"list\",length = 7)\n",
    "matrices_powercons[[1]] = powercons_train_raw\n",
    "matrices_powercons[[2]] = powercons_train_piecewise_2\n",
    "matrices_powercons[[3]] = powercons_train_piecewise_3\n",
    "matrices_powercons[[4]] = powercons_train_piecewise_4\n",
    "matrices_powercons[[5]] = powercons_train_paa_reps_5\n",
    "matrices_powercons[[6]] = powercons_train_paa_reps_10\n",
    "matrices_powercons[[7]] = powercons_train_paa_reps_20"
   ]
  },
  {
   "cell_type": "code",
   "execution_count": 223,
   "id": "3fffae0e",
   "metadata": {},
   "outputs": [],
   "source": [
    "distances_powercons = vector(mode = \"list\",length = 7*4)\n",
    "\n",
    "for(i in 1:7){\n",
    "    large_number = 100000\n",
    "    powercons_dist_euc=as.matrix(dist(matrices_powercons[[i]]))\n",
    "    diag(powercons_dist_euc)=large_number\n",
    "\n",
    "    powercons_dist_dtw=as.matrix(dtwDist(matrices_powercons[[i]]))\n",
    "    diag(powercons_dist_dtw)=large_number\n",
    "\n",
    "    powercons_dist_lcss=TSDatabaseDistances(matrices_powercons[[i]],distance='lcss',epsilon=0.05)\n",
    "    powercons_dist_lcss=as.matrix(powercons_dist_lcss)\n",
    "    diag(powercons_dist_lcss)=large_number \n",
    "\n",
    "    powercons_dist_manhattan=as.matrix(dist(matrices_powercons[[i]], method = \"manhattan\"))\n",
    "    diag(powercons_dist_manhattan)=large_number\n",
    "    \n",
    "    distances_powercons[[1 + (i-1)*4]] = powercons_dist_euc\n",
    "    distances_powercons[[2 + (i-1)*4]] = powercons_dist_dtw\n",
    "    distances_powercons[[3 + (i-1)*4]] = powercons_dist_lcss\n",
    "    distances_powercons[[4 + (i-1)*4]] = powercons_dist_manhattan\n",
    "}\n"
   ]
  },
  {
   "cell_type": "code",
   "execution_count": 224,
   "id": "c2efbb2a",
   "metadata": {},
   "outputs": [],
   "source": [
    "k_levels=c(1,3,5)\n",
    "result=vector('list',length(distances_powercons)*nof_rep*n_fold*length(k_levels))\n",
    "iter=1\n",
    "for(m in 1:length(distances_powercons)){ #\n",
    "    dist_mat = distances_powercons[[m]]\n",
    "    for(i in 1:nof_rep){\n",
    "        this_fold=cv_indices[[i]]\n",
    "        for(j in 1:n_fold){\n",
    "            test_indices=this_fold[[j]]\n",
    "            for(k in 1:length(k_levels)){\n",
    "                current_k=k_levels[k]\n",
    "                current_fold=nn_classify_cv(dist_mat,trainclass_powercons,test_indices,k=current_k)\n",
    "                accuracy=sum(trainclass_powercons[test_indices]==current_fold$prediction$predicted)/length(test_indices)\n",
    "                tmp=data.table(approach=paste(\"distance:\",m),repid=i,foldid=j,\n",
    "                               k=current_k,acc=accuracy)\n",
    "                result[[iter]]=tmp\n",
    "                iter=iter+1\n",
    "                \n",
    "            }\n",
    "            \n",
    "        }\n",
    "    \n",
    "    }   \n",
    "    \n",
    "}"
   ]
  },
  {
   "cell_type": "code",
   "execution_count": 225,
   "id": "2ad9c07c",
   "metadata": {},
   "outputs": [],
   "source": [
    "overall_results=rbindlist(result)\n",
    "summarized_results=overall_results[,list(avg_acc=mean(acc),sdev_acc=sd(acc),result_count=.N),by=list(approach,k)]"
   ]
  },
  {
   "cell_type": "code",
   "execution_count": 226,
   "id": "dd21da83",
   "metadata": {},
   "outputs": [
    {
     "data": {
      "text/html": [
       "<table class=\"dataframe\">\n",
       "<caption>A data.table: 6 × 5</caption>\n",
       "<thead>\n",
       "\t<tr><th scope=col>approach</th><th scope=col>k</th><th scope=col>avg_acc</th><th scope=col>sdev_acc</th><th scope=col>result_count</th></tr>\n",
       "\t<tr><th scope=col>&lt;chr&gt;</th><th scope=col>&lt;dbl&gt;</th><th scope=col>&lt;dbl&gt;</th><th scope=col>&lt;dbl&gt;</th><th scope=col>&lt;int&gt;</th></tr>\n",
       "</thead>\n",
       "<tbody>\n",
       "\t<tr><td>distance: 7 </td><td>1</td><td>0.5000000</td><td>0.00000000</td><td>50</td></tr>\n",
       "\t<tr><td>distance: 7 </td><td>3</td><td>0.5000000</td><td>0.00000000</td><td>50</td></tr>\n",
       "\t<tr><td>distance: 7 </td><td>5</td><td>0.5000000</td><td>0.00000000</td><td>50</td></tr>\n",
       "\t<tr><td>distance: 11</td><td>1</td><td>0.4922222</td><td>0.02512253</td><td>50</td></tr>\n",
       "\t<tr><td>distance: 15</td><td>1</td><td>0.4800000</td><td>0.04009311</td><td>50</td></tr>\n",
       "\t<tr><td>distance: 11</td><td>3</td><td>0.4800000</td><td>0.04312088</td><td>50</td></tr>\n",
       "</tbody>\n",
       "</table>\n"
      ],
      "text/latex": [
       "A data.table: 6 × 5\n",
       "\\begin{tabular}{lllll}\n",
       " approach & k & avg\\_acc & sdev\\_acc & result\\_count\\\\\n",
       " <chr> & <dbl> & <dbl> & <dbl> & <int>\\\\\n",
       "\\hline\n",
       "\t distance: 7  & 1 & 0.5000000 & 0.00000000 & 50\\\\\n",
       "\t distance: 7  & 3 & 0.5000000 & 0.00000000 & 50\\\\\n",
       "\t distance: 7  & 5 & 0.5000000 & 0.00000000 & 50\\\\\n",
       "\t distance: 11 & 1 & 0.4922222 & 0.02512253 & 50\\\\\n",
       "\t distance: 15 & 1 & 0.4800000 & 0.04009311 & 50\\\\\n",
       "\t distance: 11 & 3 & 0.4800000 & 0.04312088 & 50\\\\\n",
       "\\end{tabular}\n"
      ],
      "text/markdown": [
       "\n",
       "A data.table: 6 × 5\n",
       "\n",
       "| approach &lt;chr&gt; | k &lt;dbl&gt; | avg_acc &lt;dbl&gt; | sdev_acc &lt;dbl&gt; | result_count &lt;int&gt; |\n",
       "|---|---|---|---|---|\n",
       "| distance: 7  | 1 | 0.5000000 | 0.00000000 | 50 |\n",
       "| distance: 7  | 3 | 0.5000000 | 0.00000000 | 50 |\n",
       "| distance: 7  | 5 | 0.5000000 | 0.00000000 | 50 |\n",
       "| distance: 11 | 1 | 0.4922222 | 0.02512253 | 50 |\n",
       "| distance: 15 | 1 | 0.4800000 | 0.04009311 | 50 |\n",
       "| distance: 11 | 3 | 0.4800000 | 0.04312088 | 50 |\n",
       "\n"
      ],
      "text/plain": [
       "  approach     k avg_acc   sdev_acc   result_count\n",
       "1 distance: 7  1 0.5000000 0.00000000 50          \n",
       "2 distance: 7  3 0.5000000 0.00000000 50          \n",
       "3 distance: 7  5 0.5000000 0.00000000 50          \n",
       "4 distance: 11 1 0.4922222 0.02512253 50          \n",
       "5 distance: 15 1 0.4800000 0.04009311 50          \n",
       "6 distance: 11 3 0.4800000 0.04312088 50          "
      ]
     },
     "metadata": {},
     "output_type": "display_data"
    }
   ],
   "source": [
    "head(summarized_results[order(-avg_acc)])"
   ]
  },
  {
   "cell_type": "code",
   "execution_count": 39,
   "id": "2dc0281e",
   "metadata": {},
   "outputs": [],
   "source": [
    "test_classes_powercons = powercons_test$V1\n",
    "powercons_test = powercons_test[,2:ncol(powercons_test)]"
   ]
  },
  {
   "cell_type": "code",
   "execution_count": 42,
   "id": "926fab83",
   "metadata": {},
   "outputs": [],
   "source": [
    "powercons_dist_lcss_test=TSDatabaseDistances(X = powercons_test,Y = matrices_powercons[[2]],distance='lcss',epsilon=0.05)\n",
    "powercons_dist_lcss_test=as.matrix(powercons_dist_lcss_test)\n",
    "diag(powercons_dist_lcss_test)=large_number "
   ]
  },
  {
   "cell_type": "code",
   "execution_count": 120,
   "id": "28941615",
   "metadata": {},
   "outputs": [
    {
     "data": {
      "text/plain": [
       "                      \n",
       "test_classes_powercons  1  2\n",
       "                     1 17 73\n",
       "                     2 31 59"
      ]
     },
     "metadata": {},
     "output_type": "display_data"
    },
    {
     "name": "stdout",
     "output_type": "stream",
     "text": [
      "[1] 0.4222222\n"
     ]
    }
   ],
   "source": [
    "ordered_indices=apply(powercons_dist_lcss_test,1,order)\n",
    "#nearest_class=apply(t(ordered_indices[1,]),2,function(x) {trainclass_powercons[x]})\n",
    "#nearest_class=data.table(id=1:nrow(powercons_test),t(nearest_class))\n",
    "nearest_class=as.numeric(trainclass_powercons[as.numeric(ordered_indices[1,])])\n",
    "nearest_class=data.table(id=1:nrow(powercons_test),nearest_class)\n",
    "long_nn_class=melt(nearest_class,'id')\n",
    "class_counts=long_nn_class[,.N,list(id,value)]\n",
    "class_counts[,predicted_prob:=N/5]\n",
    "wide_class_prob_predictions=dcast(class_counts,id~value,value.var='predicted_prob')\n",
    "wide_class_prob_predictions[is.na(wide_class_prob_predictions)]=0\n",
    "class_predictions=class_counts[,list(predicted=value[which.max(N)]),by=list(id)]\n",
    "\n",
    "table(test_classes_powercons,class_predictions$predicted)\n",
    "\n",
    "acc=sum(test_classes_powercons==class_predictions$predicted)/length(class_predictions$predicted)\n",
    "print(acc)"
   ]
  },
  {
   "cell_type": "code",
   "execution_count": 119,
   "id": "a87f45bd",
   "metadata": {},
   "outputs": [
    {
     "data": {
      "text/html": [
       "<table class=\"dataframe\">\n",
       "<caption>A matrix: 1 × 180 of type int</caption>\n",
       "<tbody>\n",
       "\t<tr><td>101</td><td>101</td><td>101</td><td>101</td><td>101</td><td>118</td><td>110</td><td>133</td><td>101</td><td>118</td><td>...</td><td>101</td><td>70</td><td>8</td><td>101</td><td>122</td><td>118</td><td>134</td><td>72</td><td>118</td><td>70</td></tr>\n",
       "</tbody>\n",
       "</table>\n"
      ],
      "text/latex": [
       "A matrix: 1 × 180 of type int\n",
       "\\begin{tabular}{lllllllllllllllllllll}\n",
       "\t 101 & 101 & 101 & 101 & 101 & 118 & 110 & 133 & 101 & 118 & ... & 101 & 70 & 8 & 101 & 122 & 118 & 134 & 72 & 118 & 70\\\\\n",
       "\\end{tabular}\n"
      ],
      "text/markdown": [
       "\n",
       "A matrix: 1 × 180 of type int\n",
       "\n",
       "| 101 | 101 | 101 | 101 | 101 | 118 | 110 | 133 | 101 | 118 | ... | 101 | 70 | 8 | 101 | 122 | 118 | 134 | 72 | 118 | 70 |\n",
       "\n"
      ],
      "text/plain": [
       "     [,1] [,2] [,3] [,4] [,5] [,6] [,7] [,8] [,9] [,10] [,11] [,12] [,13] [,14]\n",
       "[1,] 101  101  101  101  101  118  110  133  101  118   ...   101   70    8    \n",
       "     [,15] [,16] [,17] [,18] [,19] [,20] [,21]\n",
       "[1,] 101   122   118   134   72    118   70   "
      ]
     },
     "metadata": {},
     "output_type": "display_data"
    }
   ],
   "source": [
    "t(ordered_indices[1,])"
   ]
  },
  {
   "cell_type": "markdown",
   "id": "7981715e",
   "metadata": {},
   "source": [
    "# 3) FreezerRegularTrain"
   ]
  },
  {
   "cell_type": "markdown",
   "id": "77398435",
   "metadata": {},
   "source": [
    "The collection of this data was part of the project titled Personalised Retrofit Decision Support Tools for UK Homes using Smart Home Technology (REFIT). The REFIT dataset includes data from 20 households from Loughborough area over the period 2013-2014 (see [1], [2]). We use data of freezers in House 1 to make two datasets. These two datasets share a same test set and only differ in the number of training instances. There is nothing to infer from the order of examples in the train and test set Data created by David Murray et al. (see [2]). Data edited by Shaghayegh Gharghabi, Hoang Anh Dau and Eamonn Keogh. [1] (Link Here) [2] Murray, David et al., \"A data management platform for personalised real-time energy feedback\", Proceedings of the 8th International Conference on Engery Efficiency in Domestic Appliances and Lighting, 2015. There are two classes, one representing the power demand of the fridge freezer in the kitchen, the other representing the power demand of the (less frequently used) freezer in the garage. They are hard to tell apart globally but they differ locally."
   ]
  },
  {
   "cell_type": "code",
   "execution_count": 48,
   "id": "3adb552e",
   "metadata": {},
   "outputs": [],
   "source": [
    "FreezerRegularTrain_train <- fread(\"FreezerRegularTrain_TRAIN.txt\")\n",
    "FreezerRegularTrain_test <- fread(\"FreezerRegularTrain_TEST.txt\")\n",
    "\n",
    "setnames(FreezerRegularTrain_train,\"V1\",\"class\")\n",
    "FreezerRegularTrain_train=FreezerRegularTrain_train[order(class)]\n",
    "FreezerRegularTrain_train[,class:=as.character(class)]\n",
    "FreezerRegularTrain_train[,id:=1:.N]\n",
    "long_FreezerRegularTrain_train=melt(FreezerRegularTrain_train,id.vars=c('id','class'))\n",
    "long_FreezerRegularTrain_train[,time:=as.numeric(gsub(\"\\\\D\", \"\", variable))-1]\n",
    "long_FreezerRegularTrain_train=long_FreezerRegularTrain_train[,list(id,class,time,value)]\n",
    "long_FreezerRegularTrain_train=long_FreezerRegularTrain_train[order(id,time)]\n",
    "\n",
    "FreezerRegularTrain_train = FreezerRegularTrain_train[,2:(ncol(FreezerRegularTrain_train)-1)]\n",
    "\n",
    "for (i in 1:length(unique(long_FreezerRegularTrain_train$id))){\n",
    "tree_fit <- rpart(value~time,data = long_FreezerRegularTrain_train[id == i],control = rpart.control(maxdepth = 2))\n",
    "long_FreezerRegularTrain_train[id == i,tree_piecewise_2:=predict(tree_fit,long_FreezerRegularTrain_train[id == i])]\n",
    "}\n",
    "\n",
    "for (i in 1:length(unique(long_FreezerRegularTrain_train$id))){\n",
    "tree_fit <- rpart(value~time,data = long_FreezerRegularTrain_train[id == i],control = rpart.control(maxdepth = 3))\n",
    "long_FreezerRegularTrain_train[id == i,tree_piecewise_3:=predict(tree_fit,long_FreezerRegularTrain_train[id == i])]\n",
    "}\n",
    "\n",
    "for (i in 1:length(unique(long_FreezerRegularTrain_train$id))){\n",
    "tree_fit <- rpart(value~time,data = long_FreezerRegularTrain_train[id == i],control = rpart.control(maxdepth = 4))\n",
    "long_FreezerRegularTrain_train[id == i,tree_piecewise_4:=predict(tree_fit,long_FreezerRegularTrain_train[id == i])]\n",
    "}\n",
    "\n",
    "for (i in 1:length(unique(long_FreezerRegularTrain_train$id))){\n",
    "data_instance = long_FreezerRegularTrain_train[id == i]\n",
    "#data_instance[,paa_reps:=NULL]\n",
    "segment_length=5\n",
    "paa_reps=repr_paa(data_instance$value, segment_length, meanC)\n",
    "dummy_time=c(1:(length(paa_reps)-1))*segment_length \n",
    "dummy_time=c(dummy_time,nrow(data_instance))\n",
    "dt_paa=data.table(time=dummy_time,paa_reps=paa_reps)\n",
    "data_instance=merge(data_instance,dt_paa,by='time',all.x=T)\n",
    "data_instance[,paa_reps:=nafill(paa_reps,'nocb')]\n",
    "long_FreezerRegularTrain_train[id == i,\"paa_reps_5\"] = data_instance[,\"paa_reps\"]\n",
    "}\n",
    "\n",
    "for (i in 1:length(unique(long_FreezerRegularTrain_train$id))){\n",
    "data_instance = long_FreezerRegularTrain_train[id == i]\n",
    "#data_instance[,paa_reps:=NULL]\n",
    "segment_length=10\n",
    "paa_reps=repr_paa(data_instance$value, segment_length, meanC)\n",
    "dummy_time=c(1:(length(paa_reps)-1))*segment_length \n",
    "dummy_time=c(dummy_time,nrow(data_instance))\n",
    "dt_paa=data.table(time=dummy_time,paa_reps=paa_reps)\n",
    "data_instance=merge(data_instance,dt_paa,by='time',all.x=T)\n",
    "data_instance[,paa_reps:=nafill(paa_reps,'nocb')]\n",
    "long_FreezerRegularTrain_train[id == i,\"paa_reps_10\"] = data_instance[,\"paa_reps\"]\n",
    "}\n",
    "\n",
    "for (i in 1:length(unique(long_FreezerRegularTrain_train$id))){\n",
    "data_instance = long_FreezerRegularTrain_train[id == i]\n",
    "#data_instance[,paa_reps:=NULL]\n",
    "segment_length=20\n",
    "paa_reps=repr_paa(data_instance$value, segment_length, meanC)\n",
    "dummy_time=c(1:(length(paa_reps)-1))*segment_length \n",
    "dummy_time=c(dummy_time,nrow(data_instance))\n",
    "dt_paa=data.table(time=dummy_time,paa_reps=paa_reps)\n",
    "data_instance=merge(data_instance,dt_paa,by='time',all.x=T)\n",
    "data_instance[,paa_reps:=nafill(paa_reps,'nocb')]\n",
    "long_FreezerRegularTrain_train[id == i,\"paa_reps_20\"] = data_instance[,\"paa_reps\"]\n",
    "}\n",
    "    \n",
    "FreezerRegularTrain_train_raw = data.frame()\n",
    "for(i in 1:length(unique(long_FreezerRegularTrain_train$id))){\n",
    "FreezerRegularTrain_train_raw = rbind(FreezerRegularTrain_train_raw,t(as.data.frame(long_FreezerRegularTrain_train[id == i]$value)))\n",
    "}\n",
    "row.names(FreezerRegularTrain_train_raw) <- NULL\n",
    "\n",
    "FreezerRegularTrain_train_piecewise_2 = data.frame()\n",
    "for(i in 1:length(unique(long_FreezerRegularTrain_train$id))){\n",
    "    FreezerRegularTrain_train_piecewise_2 = rbind(FreezerRegularTrain_train_piecewise_2,t(as.data.frame(long_FreezerRegularTrain_train[id == i]$tree_piecewise_2)))\n",
    "}\n",
    "\n",
    "FreezerRegularTrain_train_piecewise_3 = data.frame()\n",
    "for(i in 1:length(unique(long_FreezerRegularTrain_train$id))){\n",
    "    FreezerRegularTrain_train_piecewise_3 = rbind(FreezerRegularTrain_train_piecewise_3,t(as.data.frame(long_FreezerRegularTrain_train[id == i]$tree_piecewise_3)))\n",
    "}\n",
    "\n",
    "FreezerRegularTrain_train_piecewise_4 = data.frame()\n",
    "for(i in 1:length(unique(long_FreezerRegularTrain_train$id))){\n",
    "    FreezerRegularTrain_train_piecewise_4 = rbind(FreezerRegularTrain_train_piecewise_4,t(as.data.frame(long_FreezerRegularTrain_train[id == i]$tree_piecewise_4)))\n",
    "}\n",
    "row.names(FreezerRegularTrain_train_piecewise_2) <- NULL\n",
    "row.names(FreezerRegularTrain_train_piecewise_3) <- NULL\n",
    "row.names(FreezerRegularTrain_train_piecewise_4) <- NULL\n",
    "\n",
    "FreezerRegularTrain_train_paa_reps_5 = data.frame()\n",
    "for(i in 1:length(unique(long_FreezerRegularTrain_train$id))){\n",
    "    FreezerRegularTrain_train_paa_reps_5 = rbind(FreezerRegularTrain_train_paa_reps_5,t(as.data.frame(long_FreezerRegularTrain_train[id == i]$paa_reps_5)))\n",
    "}\n",
    "\n",
    "FreezerRegularTrain_train_paa_reps_10 = data.frame()\n",
    "for(i in 1:length(unique(long_FreezerRegularTrain_train$id))){\n",
    "    FreezerRegularTrain_train_paa_reps_10 = rbind(FreezerRegularTrain_train_paa_reps_10,t(as.data.frame(long_FreezerRegularTrain_train[id == i]$paa_reps_10)))\n",
    "}\n",
    "\n",
    "FreezerRegularTrain_train_paa_reps_20 = data.frame()\n",
    "for(i in 1:length(unique(long_FreezerRegularTrain_train$id))){\n",
    "    FreezerRegularTrain_train_paa_reps_20 = rbind(FreezerRegularTrain_train_paa_reps_20,t(as.data.frame(long_FreezerRegularTrain_train[id == i]$paa_reps_20)))\n",
    "}\n",
    "row.names(FreezerRegularTrain_train_paa_reps_5) <- NULL\n",
    "row.names(FreezerRegularTrain_train_paa_reps_10) <- NULL\n",
    "row.names(FreezerRegularTrain_train_paa_reps_20) <- NULL\n",
    "    \n",
    "trainclass_FreezerRegularTrain = c()\n",
    "for(i in 1:length(unique(long_FreezerRegularTrain_train$id))){\n",
    "    trainclass_FreezerRegularTrain = c(trainclass_FreezerRegularTrain,unique(long_FreezerRegularTrain_train[id==i,class]))\n",
    "}\n",
    "\n",
    "set.seed(500)\n",
    "nof_rep=5\n",
    "n_fold=10\n",
    "cv_indices=generateCVRuns(trainclass_FreezerRegularTrain, ntimes =nof_rep, nfold = n_fold, \n",
    "                          leaveOneOut = FALSE, stratified = TRUE)\n",
    "\n",
    "matrices_FreezerRegularTrain = vector(mode = \"list\",length = 7)\n",
    "matrices_FreezerRegularTrain[[1]] = FreezerRegularTrain_train_raw\n",
    "matrices_FreezerRegularTrain[[2]] = FreezerRegularTrain_train_piecewise_2\n",
    "matrices_FreezerRegularTrain[[3]] = FreezerRegularTrain_train_piecewise_3\n",
    "matrices_FreezerRegularTrain[[4]] = FreezerRegularTrain_train_piecewise_4\n",
    "matrices_FreezerRegularTrain[[5]] = FreezerRegularTrain_train_paa_reps_5\n",
    "matrices_FreezerRegularTrain[[6]] = FreezerRegularTrain_train_paa_reps_10\n",
    "matrices_FreezerRegularTrain[[7]] = FreezerRegularTrain_train_paa_reps_20\n",
    "    \n",
    "distances_FreezerRegularTrain = vector(mode = \"list\",length = 7*4)\n",
    "\n",
    "for(i in 1:7){\n",
    "    large_number = 100000\n",
    "    FreezerRegularTrain_dist_euc=as.matrix(dist(matrices_FreezerRegularTrain[[i]]))\n",
    "    diag(FreezerRegularTrain_dist_euc)=large_number\n",
    "\n",
    "    FreezerRegularTrain_dist_dtw=as.matrix(dtwDist(matrices_FreezerRegularTrain[[i]]))\n",
    "    diag(FreezerRegularTrain_dist_dtw)=large_number\n",
    "\n",
    "    FreezerRegularTrain_dist_lcss=TSDatabaseDistances(matrices_FreezerRegularTrain[[i]],distance='lcss',epsilon=0.05)\n",
    "    FreezerRegularTrain_dist_lcss=as.matrix(FreezerRegularTrain_dist_lcss)\n",
    "    diag(FreezerRegularTrain_dist_lcss)=large_number \n",
    "\n",
    "    FreezerRegularTrain_dist_manhattan=as.matrix(dist(matrices_FreezerRegularTrain[[i]], method = \"manhattan\"))\n",
    "    diag(FreezerRegularTrain_dist_manhattan)=large_number\n",
    "    \n",
    "    distances_FreezerRegularTrain[[1 + (i-1)*4]] = FreezerRegularTrain_dist_euc\n",
    "    distances_FreezerRegularTrain[[2 + (i-1)*4]] = FreezerRegularTrain_dist_dtw\n",
    "    distances_FreezerRegularTrain[[3 + (i-1)*4]] = FreezerRegularTrain_dist_lcss\n",
    "    distances_FreezerRegularTrain[[4 + (i-1)*4]] = FreezerRegularTrain_dist_manhattan\n",
    "}\n",
    "\n",
    "k_levels=c(1,3,5)\n",
    "result=vector('list',length(distances_FreezerRegularTrain)*nof_rep*n_fold*length(k_levels))\n",
    "iter=1\n",
    "for(m in 1:length(distances_FreezerRegularTrain)){ #\n",
    "    dist_mat = distances_FreezerRegularTrain[[m]]\n",
    "    for(i in 1:nof_rep){\n",
    "        this_fold=cv_indices[[i]]\n",
    "        for(j in 1:n_fold){\n",
    "            test_indices=this_fold[[j]]\n",
    "            for(k in 1:length(k_levels)){\n",
    "                current_k=k_levels[k]\n",
    "                current_fold=nn_classify_cv(dist_mat,trainclass_FreezerRegularTrain,test_indices,k=current_k)\n",
    "                accuracy=sum(trainclass_FreezerRegularTrain[test_indices]==current_fold$prediction$predicted)/length(test_indices)\n",
    "                tmp=data.table(approach=paste(\"distance:\",m),repid=i,foldid=j,\n",
    "                               k=current_k,acc=accuracy)\n",
    "                result[[iter]]=tmp\n",
    "                iter=iter+1\n",
    "                \n",
    "            }\n",
    "            \n",
    "        }\n",
    "    \n",
    "    }   \n",
    "    \n",
    "}\n",
    "\n",
    "overall_results=rbindlist(result)\n",
    "summarized_results=overall_results[,list(avg_acc=mean(acc),sdev_acc=sd(acc),result_count=.N),by=list(approach,k)]\n",
    "\n"
   ]
  },
  {
   "cell_type": "code",
   "execution_count": 49,
   "id": "931bf9a8",
   "metadata": {},
   "outputs": [
    {
     "data": {
      "text/html": [
       "<table class=\"dataframe\">\n",
       "<caption>A data.table: 6 × 5</caption>\n",
       "<thead>\n",
       "\t<tr><th scope=col>approach</th><th scope=col>k</th><th scope=col>avg_acc</th><th scope=col>sdev_acc</th><th scope=col>result_count</th></tr>\n",
       "\t<tr><th scope=col>&lt;chr&gt;</th><th scope=col>&lt;dbl&gt;</th><th scope=col>&lt;dbl&gt;</th><th scope=col>&lt;dbl&gt;</th><th scope=col>&lt;int&gt;</th></tr>\n",
       "</thead>\n",
       "<tbody>\n",
       "\t<tr><td>distance: 20</td><td>1</td><td>0.9013333</td><td>0.07765264</td><td>50</td></tr>\n",
       "\t<tr><td>distance: 24</td><td>1</td><td>0.8973333</td><td>0.07153643</td><td>50</td></tr>\n",
       "\t<tr><td>distance: 28</td><td>1</td><td>0.8946667</td><td>0.07388169</td><td>50</td></tr>\n",
       "\t<tr><td>distance: 4 </td><td>1</td><td>0.8920000</td><td>0.06853173</td><td>50</td></tr>\n",
       "\t<tr><td>distance: 26</td><td>1</td><td>0.8813333</td><td>0.07534050</td><td>50</td></tr>\n",
       "\t<tr><td>distance: 21</td><td>1</td><td>0.8720000</td><td>0.08393929</td><td>50</td></tr>\n",
       "</tbody>\n",
       "</table>\n"
      ],
      "text/latex": [
       "A data.table: 6 × 5\n",
       "\\begin{tabular}{lllll}\n",
       " approach & k & avg\\_acc & sdev\\_acc & result\\_count\\\\\n",
       " <chr> & <dbl> & <dbl> & <dbl> & <int>\\\\\n",
       "\\hline\n",
       "\t distance: 20 & 1 & 0.9013333 & 0.07765264 & 50\\\\\n",
       "\t distance: 24 & 1 & 0.8973333 & 0.07153643 & 50\\\\\n",
       "\t distance: 28 & 1 & 0.8946667 & 0.07388169 & 50\\\\\n",
       "\t distance: 4  & 1 & 0.8920000 & 0.06853173 & 50\\\\\n",
       "\t distance: 26 & 1 & 0.8813333 & 0.07534050 & 50\\\\\n",
       "\t distance: 21 & 1 & 0.8720000 & 0.08393929 & 50\\\\\n",
       "\\end{tabular}\n"
      ],
      "text/markdown": [
       "\n",
       "A data.table: 6 × 5\n",
       "\n",
       "| approach &lt;chr&gt; | k &lt;dbl&gt; | avg_acc &lt;dbl&gt; | sdev_acc &lt;dbl&gt; | result_count &lt;int&gt; |\n",
       "|---|---|---|---|---|\n",
       "| distance: 20 | 1 | 0.9013333 | 0.07765264 | 50 |\n",
       "| distance: 24 | 1 | 0.8973333 | 0.07153643 | 50 |\n",
       "| distance: 28 | 1 | 0.8946667 | 0.07388169 | 50 |\n",
       "| distance: 4  | 1 | 0.8920000 | 0.06853173 | 50 |\n",
       "| distance: 26 | 1 | 0.8813333 | 0.07534050 | 50 |\n",
       "| distance: 21 | 1 | 0.8720000 | 0.08393929 | 50 |\n",
       "\n"
      ],
      "text/plain": [
       "  approach     k avg_acc   sdev_acc   result_count\n",
       "1 distance: 20 1 0.9013333 0.07765264 50          \n",
       "2 distance: 24 1 0.8973333 0.07153643 50          \n",
       "3 distance: 28 1 0.8946667 0.07388169 50          \n",
       "4 distance: 4  1 0.8920000 0.06853173 50          \n",
       "5 distance: 26 1 0.8813333 0.07534050 50          \n",
       "6 distance: 21 1 0.8720000 0.08393929 50          "
      ]
     },
     "metadata": {},
     "output_type": "display_data"
    }
   ],
   "source": [
    "head(summarized_results[order(-avg_acc)])"
   ]
  },
  {
   "cell_type": "code",
   "execution_count": 50,
   "id": "e32ddf8e",
   "metadata": {},
   "outputs": [],
   "source": [
    "test_classes_FreezerRegularTrain = FreezerRegularTrain_test$V1\n",
    "FreezerRegularTrain_test = FreezerRegularTrain_test[,2:ncol(FreezerRegularTrain_test)]"
   ]
  },
  {
   "cell_type": "code",
   "execution_count": 53,
   "id": "bce7eb61",
   "metadata": {},
   "outputs": [],
   "source": [
    "FreezerRegularTrain_dist_manhattan_test=as.matrix(dist(x = FreezerRegularTrain_test, y = matrices_FreezerRegularTrain[[5]], method = \"manhattan\"))\n",
    "diag(FreezerRegularTrain_dist_manhattan_test)=large_number"
   ]
  },
  {
   "cell_type": "code",
   "execution_count": 121,
   "id": "3eecccfa",
   "metadata": {},
   "outputs": [
    {
     "data": {
      "text/plain": [
       "                                \n",
       "test_classes_FreezerRegularTrain    1    2\n",
       "                               1 1363   62\n",
       "                               2  148 1277"
      ]
     },
     "metadata": {},
     "output_type": "display_data"
    },
    {
     "name": "stdout",
     "output_type": "stream",
     "text": [
      "[1] 0.9263158\n"
     ]
    }
   ],
   "source": [
    "ordered_indices=apply(FreezerRegularTrain_dist_manhattan_test,1,order)\n",
    "#nearest_class=apply(as.matrix(ordered_indices[1,],2,function(x) {trainclass_FreezerRegularTrain[x]})\n",
    "#nearest_class=data.table(id=1:nrow(FreezerRegularTrain_test),t(nearest_class))\n",
    "nearest_class=as.numeric(trainclass_FreezerRegularTrain[as.numeric(ordered_indices[1,])])\n",
    "nearest_class=data.table(id=1:nrow(FreezerRegularTrain_test),nearest_class)\n",
    "long_nn_class=melt(nearest_class,'id')\n",
    "class_counts=long_nn_class[,.N,list(id,value)]\n",
    "class_counts[,predicted_prob:=N/3]\n",
    "wide_class_prob_predictions=dcast(class_counts,id~value,value.var='predicted_prob')\n",
    "wide_class_prob_predictions[is.na(wide_class_prob_predictions)]=0\n",
    "class_predictions=class_counts[,list(predicted=value[which.max(N)]),by=list(id)]\n",
    "\n",
    "table(test_classes_FreezerRegularTrain,class_predictions$predicted)\n",
    "\n",
    "acc=sum(test_classes_FreezerRegularTrain==class_predictions$predicted)/length(class_predictions$predicted)\n",
    "print(acc)"
   ]
  },
  {
   "cell_type": "markdown",
   "id": "ecc56a56",
   "metadata": {},
   "source": [
    "# 4) Ham"
   ]
  },
  {
   "cell_type": "markdown",
   "id": "08aace19",
   "metadata": {},
   "source": [
    "Food spectrographs are used in chemometrics to classify food types, a task that has obvious applications in food safety and quality assurance. The ham data includes measurements from 19 Spanish and 18 French dry-cured hams. Triplicate lanes of duplicate extractions (giving ~6 data vectors per sample), pre-processed and aligned as described in �Sodium dodecyl sulphate-polyacrylamide gel electrophoresis of proteins in dry-cured hams: Data registration and multivariate analysis across multiple gels�, Olias R. et. al., Electrophoresis 27 (7) 1288-1299."
   ]
  },
  {
   "cell_type": "code",
   "execution_count": 58,
   "id": "12f6eb95",
   "metadata": {},
   "outputs": [],
   "source": [
    "Ham_train <- fread(\"Ham_TRAIN.txt\")\n",
    "Ham_test <- fread(\"Ham_TEST.txt\")\n",
    "\n",
    "setnames(Ham_train,\"V1\",\"class\")\n",
    "Ham_train=Ham_train[order(class)]\n",
    "Ham_train[,class:=as.character(class)]\n",
    "Ham_train[,id:=1:.N]\n",
    "long_Ham_train=melt(Ham_train,id.vars=c('id','class'))\n",
    "long_Ham_train[,time:=as.numeric(gsub(\"\\\\D\", \"\", variable))-1]\n",
    "long_Ham_train=long_Ham_train[,list(id,class,time,value)]\n",
    "long_Ham_train=long_Ham_train[order(id,time)]\n",
    "\n",
    "Ham_train = Ham_train[,2:(ncol(Ham_train)-1)]\n",
    "\n",
    "for (i in 1:length(unique(long_Ham_train$id))){\n",
    "tree_fit <- rpart(value~time,data = long_Ham_train[id == i],control = rpart.control(maxdepth = 2))\n",
    "long_Ham_train[id == i,tree_piecewise_2:=predict(tree_fit,long_Ham_train[id == i])]\n",
    "}\n",
    "\n",
    "for (i in 1:length(unique(long_Ham_train$id))){\n",
    "tree_fit <- rpart(value~time,data = long_Ham_train[id == i],control = rpart.control(maxdepth = 3))\n",
    "long_Ham_train[id == i,tree_piecewise_3:=predict(tree_fit,long_Ham_train[id == i])]\n",
    "}\n",
    "\n",
    "for (i in 1:length(unique(long_Ham_train$id))){\n",
    "tree_fit <- rpart(value~time,data = long_Ham_train[id == i],control = rpart.control(maxdepth = 4))\n",
    "long_Ham_train[id == i,tree_piecewise_4:=predict(tree_fit,long_Ham_train[id == i])]\n",
    "}\n",
    "\n",
    "for (i in 1:length(unique(long_Ham_train$id))){\n",
    "data_instance = long_Ham_train[id == i]\n",
    "#data_instance[,paa_reps:=NULL]\n",
    "segment_length=5\n",
    "paa_reps=repr_paa(data_instance$value, segment_length, meanC)\n",
    "dummy_time=c(1:(length(paa_reps)-1))*segment_length \n",
    "dummy_time=c(dummy_time,nrow(data_instance))\n",
    "dt_paa=data.table(time=dummy_time,paa_reps=paa_reps)\n",
    "data_instance=merge(data_instance,dt_paa,by='time',all.x=T)\n",
    "data_instance[,paa_reps:=nafill(paa_reps,'nocb')]\n",
    "long_Ham_train[id == i,\"paa_reps_5\"] = data_instance[,\"paa_reps\"]\n",
    "}\n",
    "\n",
    "for (i in 1:length(unique(long_Ham_train$id))){\n",
    "data_instance = long_Ham_train[id == i]\n",
    "#data_instance[,paa_reps:=NULL]\n",
    "segment_length=10\n",
    "paa_reps=repr_paa(data_instance$value, segment_length, meanC)\n",
    "dummy_time=c(1:(length(paa_reps)-1))*segment_length \n",
    "dummy_time=c(dummy_time,nrow(data_instance))\n",
    "dt_paa=data.table(time=dummy_time,paa_reps=paa_reps)\n",
    "data_instance=merge(data_instance,dt_paa,by='time',all.x=T)\n",
    "data_instance[,paa_reps:=nafill(paa_reps,'nocb')]\n",
    "long_Ham_train[id == i,\"paa_reps_10\"] = data_instance[,\"paa_reps\"]\n",
    "}\n",
    "\n",
    "for (i in 1:length(unique(long_Ham_train$id))){\n",
    "data_instance = long_Ham_train[id == i]\n",
    "#data_instance[,paa_reps:=NULL]\n",
    "segment_length=20\n",
    "paa_reps=repr_paa(data_instance$value, segment_length, meanC)\n",
    "dummy_time=c(1:(length(paa_reps)-1))*segment_length \n",
    "dummy_time=c(dummy_time,nrow(data_instance))\n",
    "dt_paa=data.table(time=dummy_time,paa_reps=paa_reps)\n",
    "data_instance=merge(data_instance,dt_paa,by='time',all.x=T)\n",
    "data_instance[,paa_reps:=nafill(paa_reps,'nocb')]\n",
    "long_Ham_train[id == i,\"paa_reps_20\"] = data_instance[,\"paa_reps\"]\n",
    "}\n",
    "    \n",
    "Ham_train_raw = data.frame()\n",
    "for(i in 1:length(unique(long_Ham_train$id))){\n",
    "Ham_train_raw = rbind(Ham_train_raw,t(as.data.frame(long_Ham_train[id == i]$value)))\n",
    "}\n",
    "row.names(Ham_train_raw) <- NULL\n",
    "\n",
    "Ham_train_piecewise_2 = data.frame()\n",
    "for(i in 1:length(unique(long_Ham_train$id))){\n",
    "    Ham_train_piecewise_2 = rbind(Ham_train_piecewise_2,t(as.data.frame(long_Ham_train[id == i]$tree_piecewise_2)))\n",
    "}\n",
    "\n",
    "Ham_train_piecewise_3 = data.frame()\n",
    "for(i in 1:length(unique(long_Ham_train$id))){\n",
    "    Ham_train_piecewise_3 = rbind(Ham_train_piecewise_3,t(as.data.frame(long_Ham_train[id == i]$tree_piecewise_3)))\n",
    "}\n",
    "\n",
    "Ham_train_piecewise_4 = data.frame()\n",
    "for(i in 1:length(unique(long_Ham_train$id))){\n",
    "    Ham_train_piecewise_4 = rbind(Ham_train_piecewise_4,t(as.data.frame(long_Ham_train[id == i]$tree_piecewise_4)))\n",
    "}\n",
    "row.names(Ham_train_piecewise_2) <- NULL\n",
    "row.names(Ham_train_piecewise_3) <- NULL\n",
    "row.names(Ham_train_piecewise_4) <- NULL\n",
    "\n",
    "Ham_train_paa_reps_5 = data.frame()\n",
    "for(i in 1:length(unique(long_Ham_train$id))){\n",
    "    Ham_train_paa_reps_5 = rbind(Ham_train_paa_reps_5,t(as.data.frame(long_Ham_train[id == i]$paa_reps_5)))\n",
    "}\n",
    "\n",
    "Ham_train_paa_reps_10 = data.frame()\n",
    "for(i in 1:length(unique(long_Ham_train$id))){\n",
    "    Ham_train_paa_reps_10 = rbind(Ham_train_paa_reps_10,t(as.data.frame(long_Ham_train[id == i]$paa_reps_10)))\n",
    "}\n",
    "\n",
    "Ham_train_paa_reps_20 = data.frame()\n",
    "for(i in 1:length(unique(long_Ham_train$id))){\n",
    "    Ham_train_paa_reps_20 = rbind(Ham_train_paa_reps_20,t(as.data.frame(long_Ham_train[id == i]$paa_reps_20)))\n",
    "}\n",
    "row.names(Ham_train_paa_reps_5) <- NULL\n",
    "row.names(Ham_train_paa_reps_10) <- NULL\n",
    "row.names(Ham_train_paa_reps_20) <- NULL\n",
    "    \n",
    "trainclass_Ham = c()\n",
    "for(i in 1:length(unique(long_Ham_train$id))){\n",
    "    trainclass_Ham = c(trainclass_Ham,unique(long_Ham_train[id==i,class]))\n",
    "}\n",
    "\n",
    "set.seed(500)\n",
    "nof_rep=5\n",
    "n_fold=10\n",
    "cv_indices=generateCVRuns(trainclass_Ham, ntimes =nof_rep, nfold = n_fold, \n",
    "                          leaveOneOut = FALSE, stratified = TRUE)\n",
    "\n",
    "matrices_Ham = vector(mode = \"list\",length = 7)\n",
    "matrices_Ham[[1]] = Ham_train_raw\n",
    "matrices_Ham[[2]] = Ham_train_piecewise_2\n",
    "matrices_Ham[[3]] = Ham_train_piecewise_3\n",
    "matrices_Ham[[4]] = Ham_train_piecewise_4\n",
    "matrices_Ham[[5]] = Ham_train_paa_reps_5\n",
    "matrices_Ham[[6]] = Ham_train_paa_reps_10\n",
    "matrices_Ham[[7]] = Ham_train_paa_reps_20\n",
    "    \n",
    "distances_Ham = vector(mode = \"list\",length = 7*4)\n",
    "\n",
    "for(i in 1:7){\n",
    "    large_number = 100000\n",
    "    Ham_dist_euc=as.matrix(dist(matrices_Ham[[i]]))\n",
    "    diag(Ham_dist_euc)=large_number\n",
    "\n",
    "    Ham_dist_dtw=as.matrix(dtwDist(matrices_Ham[[i]]))\n",
    "    diag(Ham_dist_dtw)=large_number\n",
    "\n",
    "    Ham_dist_lcss=TSDatabaseDistances(matrices_Ham[[i]],distance='lcss',epsilon=0.05)\n",
    "    Ham_dist_lcss=as.matrix(Ham_dist_lcss)\n",
    "    diag(Ham_dist_lcss)=large_number \n",
    "\n",
    "    Ham_dist_manhattan=as.matrix(dist(matrices_Ham[[i]], method = \"manhattan\"))\n",
    "    diag(Ham_dist_manhattan)=large_number\n",
    "    \n",
    "    distances_Ham[[1 + (i-1)*4]] = Ham_dist_euc\n",
    "    distances_Ham[[2 + (i-1)*4]] = Ham_dist_dtw\n",
    "    distances_Ham[[3 + (i-1)*4]] = Ham_dist_lcss\n",
    "    distances_Ham[[4 + (i-1)*4]] = Ham_dist_manhattan\n",
    "}\n",
    "\n",
    "k_levels=c(1,3,5)\n",
    "result=vector('list',length(distances_Ham)*nof_rep*n_fold*length(k_levels))\n",
    "iter=1\n",
    "for(m in 1:length(distances_Ham)){ #\n",
    "    dist_mat = distances_Ham[[m]]\n",
    "    for(i in 1:nof_rep){\n",
    "        this_fold=cv_indices[[i]]\n",
    "        for(j in 1:n_fold){\n",
    "            test_indices=this_fold[[j]]\n",
    "            for(k in 1:length(k_levels)){\n",
    "                current_k=k_levels[k]\n",
    "                current_fold=nn_classify_cv(dist_mat,trainclass_Ham,test_indices,k=current_k)\n",
    "                accuracy=sum(trainclass_Ham[test_indices]==current_fold$prediction$predicted)/length(test_indices)\n",
    "                tmp=data.table(approach=paste(\"distance:\",m),repid=i,foldid=j,\n",
    "                               k=current_k,acc=accuracy)\n",
    "                result[[iter]]=tmp\n",
    "                iter=iter+1\n",
    "                \n",
    "            }\n",
    "            \n",
    "        }\n",
    "    \n",
    "    }   \n",
    "    \n",
    "}\n",
    "\n",
    "overall_results=rbindlist(result)\n",
    "summarized_results=overall_results[,list(avg_acc=mean(acc),sdev_acc=sd(acc),result_count=.N),by=list(approach,k)]\n",
    "\n"
   ]
  },
  {
   "cell_type": "code",
   "execution_count": 59,
   "id": "8ea3dd89",
   "metadata": {},
   "outputs": [
    {
     "data": {
      "text/html": [
       "<table class=\"dataframe\">\n",
       "<caption>A data.table: 10 × 5</caption>\n",
       "<thead>\n",
       "\t<tr><th scope=col>approach</th><th scope=col>k</th><th scope=col>avg_acc</th><th scope=col>sdev_acc</th><th scope=col>result_count</th></tr>\n",
       "\t<tr><th scope=col>&lt;chr&gt;</th><th scope=col>&lt;dbl&gt;</th><th scope=col>&lt;dbl&gt;</th><th scope=col>&lt;dbl&gt;</th><th scope=col>&lt;int&gt;</th></tr>\n",
       "</thead>\n",
       "<tbody>\n",
       "\t<tr><td>distance: 20</td><td>1</td><td>0.7854545</td><td>0.1155333</td><td>50</td></tr>\n",
       "\t<tr><td>distance: 4 </td><td>3</td><td>0.7778182</td><td>0.1094792</td><td>50</td></tr>\n",
       "\t<tr><td>distance: 4 </td><td>1</td><td>0.7743636</td><td>0.1260703</td><td>50</td></tr>\n",
       "\t<tr><td>distance: 28</td><td>1</td><td>0.7618182</td><td>0.1424078</td><td>50</td></tr>\n",
       "\t<tr><td>distance: 17</td><td>1</td><td>0.7598182</td><td>0.1003131</td><td>50</td></tr>\n",
       "\t<tr><td>distance: 20</td><td>3</td><td>0.7592727</td><td>0.1032650</td><td>50</td></tr>\n",
       "\t<tr><td>distance: 1 </td><td>1</td><td>0.7554545</td><td>0.1347054</td><td>50</td></tr>\n",
       "\t<tr><td>distance: 24</td><td>1</td><td>0.7394545</td><td>0.1146336</td><td>50</td></tr>\n",
       "\t<tr><td>distance: 25</td><td>1</td><td>0.7334545</td><td>0.1355441</td><td>50</td></tr>\n",
       "\t<tr><td>distance: 22</td><td>1</td><td>0.7320000</td><td>0.1011861</td><td>50</td></tr>\n",
       "</tbody>\n",
       "</table>\n"
      ],
      "text/latex": [
       "A data.table: 10 × 5\n",
       "\\begin{tabular}{lllll}\n",
       " approach & k & avg\\_acc & sdev\\_acc & result\\_count\\\\\n",
       " <chr> & <dbl> & <dbl> & <dbl> & <int>\\\\\n",
       "\\hline\n",
       "\t distance: 20 & 1 & 0.7854545 & 0.1155333 & 50\\\\\n",
       "\t distance: 4  & 3 & 0.7778182 & 0.1094792 & 50\\\\\n",
       "\t distance: 4  & 1 & 0.7743636 & 0.1260703 & 50\\\\\n",
       "\t distance: 28 & 1 & 0.7618182 & 0.1424078 & 50\\\\\n",
       "\t distance: 17 & 1 & 0.7598182 & 0.1003131 & 50\\\\\n",
       "\t distance: 20 & 3 & 0.7592727 & 0.1032650 & 50\\\\\n",
       "\t distance: 1  & 1 & 0.7554545 & 0.1347054 & 50\\\\\n",
       "\t distance: 24 & 1 & 0.7394545 & 0.1146336 & 50\\\\\n",
       "\t distance: 25 & 1 & 0.7334545 & 0.1355441 & 50\\\\\n",
       "\t distance: 22 & 1 & 0.7320000 & 0.1011861 & 50\\\\\n",
       "\\end{tabular}\n"
      ],
      "text/markdown": [
       "\n",
       "A data.table: 10 × 5\n",
       "\n",
       "| approach &lt;chr&gt; | k &lt;dbl&gt; | avg_acc &lt;dbl&gt; | sdev_acc &lt;dbl&gt; | result_count &lt;int&gt; |\n",
       "|---|---|---|---|---|\n",
       "| distance: 20 | 1 | 0.7854545 | 0.1155333 | 50 |\n",
       "| distance: 4  | 3 | 0.7778182 | 0.1094792 | 50 |\n",
       "| distance: 4  | 1 | 0.7743636 | 0.1260703 | 50 |\n",
       "| distance: 28 | 1 | 0.7618182 | 0.1424078 | 50 |\n",
       "| distance: 17 | 1 | 0.7598182 | 0.1003131 | 50 |\n",
       "| distance: 20 | 3 | 0.7592727 | 0.1032650 | 50 |\n",
       "| distance: 1  | 1 | 0.7554545 | 0.1347054 | 50 |\n",
       "| distance: 24 | 1 | 0.7394545 | 0.1146336 | 50 |\n",
       "| distance: 25 | 1 | 0.7334545 | 0.1355441 | 50 |\n",
       "| distance: 22 | 1 | 0.7320000 | 0.1011861 | 50 |\n",
       "\n"
      ],
      "text/plain": [
       "   approach     k avg_acc   sdev_acc  result_count\n",
       "1  distance: 20 1 0.7854545 0.1155333 50          \n",
       "2  distance: 4  3 0.7778182 0.1094792 50          \n",
       "3  distance: 4  1 0.7743636 0.1260703 50          \n",
       "4  distance: 28 1 0.7618182 0.1424078 50          \n",
       "5  distance: 17 1 0.7598182 0.1003131 50          \n",
       "6  distance: 20 3 0.7592727 0.1032650 50          \n",
       "7  distance: 1  1 0.7554545 0.1347054 50          \n",
       "8  distance: 24 1 0.7394545 0.1146336 50          \n",
       "9  distance: 25 1 0.7334545 0.1355441 50          \n",
       "10 distance: 22 1 0.7320000 0.1011861 50          "
      ]
     },
     "metadata": {},
     "output_type": "display_data"
    }
   ],
   "source": [
    "head(summarized_results[order(-avg_acc)],10)"
   ]
  },
  {
   "cell_type": "code",
   "execution_count": 60,
   "id": "b9166b8a",
   "metadata": {},
   "outputs": [],
   "source": [
    "test_classes_Ham = Ham_test$V1\n",
    "Ham_test = Ham_test[,2:ncol(Ham_test)]"
   ]
  },
  {
   "cell_type": "code",
   "execution_count": 61,
   "id": "d2cad750",
   "metadata": {},
   "outputs": [],
   "source": [
    "Ham_dist_manhattan_test=as.matrix(dist(x = Ham_test, y = matrices_Ham[[5]], method = \"manhattan\"))\n",
    "diag(Ham_dist_manhattan_test)=large_number"
   ]
  },
  {
   "cell_type": "code",
   "execution_count": 125,
   "id": "dc44565f",
   "metadata": {},
   "outputs": [
    {
     "data": {
      "text/plain": [
       "                \n",
       "test_classes_Ham  1  2\n",
       "               1 27 24\n",
       "               2 27 27"
      ]
     },
     "metadata": {},
     "output_type": "display_data"
    },
    {
     "name": "stdout",
     "output_type": "stream",
     "text": [
      "[1] 0.5142857\n"
     ]
    }
   ],
   "source": [
    "ordered_indices=apply(Ham_dist_manhattan_test,1,order)\n",
    "#nearest_class=apply(ordered_indices[1:5,],2,function(x) {trainclass_Ham[x]})\n",
    "#nearest_class=data.table(id=1:nrow(Ham_test),t(nearest_class))\n",
    "nearest_class=as.numeric(trainclass_Ham[as.numeric(ordered_indices[1,])])\n",
    "nearest_class=data.table(id=1:nrow(Ham_test),nearest_class)\n",
    "long_nn_class=melt(nearest_class,'id')\n",
    "class_counts=long_nn_class[,.N,list(id,value)]\n",
    "class_counts[,predicted_prob:=N/1]\n",
    "wide_class_prob_predictions=dcast(class_counts,id~value,value.var='predicted_prob')\n",
    "wide_class_prob_predictions[is.na(wide_class_prob_predictions)]=0\n",
    "class_predictions=class_counts[,list(predicted=value[which.max(N)]),by=list(id)]\n",
    "\n",
    "table(test_classes_Ham,class_predictions$predicted)\n",
    "\n",
    "acc=sum(test_classes_Ham==class_predictions$predicted)/length(class_predictions$predicted)\n",
    "print(acc)"
   ]
  },
  {
   "cell_type": "markdown",
   "id": "12f754f1",
   "metadata": {},
   "source": [
    "# 5) ECG200"
   ]
  },
  {
   "cell_type": "markdown",
   "id": "5715517d",
   "metadata": {},
   "source": [
    "This dataset was formatted by R. Olszewski as part of his thesis \"Generalized feature extraction for structural pattern recognition in time-series data\" at Carnegie Mellon University, 2001. Each series traces the electrical activity recorded during one heartbeat. The two classes are a normal heartbeat and a Myocardial Infarction."
   ]
  },
  {
   "cell_type": "code",
   "execution_count": 63,
   "id": "08c9179a",
   "metadata": {},
   "outputs": [],
   "source": [
    "ECG200_train <- fread(\"ECG200_TRAIN.txt\")\n",
    "ECG200_test <- fread(\"ECG200_TEST.txt\")\n",
    "\n",
    "setnames(ECG200_train,\"V1\",\"class\")\n",
    "ECG200_train=ECG200_train[order(class)]\n",
    "ECG200_train[,class:=as.character(class)]\n",
    "ECG200_train[,id:=1:.N]\n",
    "long_ECG200_train=melt(ECG200_train,id.vars=c('id','class'))\n",
    "long_ECG200_train[,time:=as.numeric(gsub(\"\\\\D\", \"\", variable))-1]\n",
    "long_ECG200_train=long_ECG200_train[,list(id,class,time,value)]\n",
    "long_ECG200_train=long_ECG200_train[order(id,time)]\n",
    "\n",
    "ECG200_train = ECG200_train[,2:(ncol(ECG200_train)-1)]\n",
    "\n",
    "for (i in 1:length(unique(long_ECG200_train$id))){\n",
    "tree_fit <- rpart(value~time,data = long_ECG200_train[id == i],control = rpart.control(maxdepth = 2))\n",
    "long_ECG200_train[id == i,tree_piecewise_2:=predict(tree_fit,long_ECG200_train[id == i])]\n",
    "}\n",
    "\n",
    "for (i in 1:length(unique(long_ECG200_train$id))){\n",
    "tree_fit <- rpart(value~time,data = long_ECG200_train[id == i],control = rpart.control(maxdepth = 3))\n",
    "long_ECG200_train[id == i,tree_piecewise_3:=predict(tree_fit,long_ECG200_train[id == i])]\n",
    "}\n",
    "\n",
    "for (i in 1:length(unique(long_ECG200_train$id))){\n",
    "tree_fit <- rpart(value~time,data = long_ECG200_train[id == i],control = rpart.control(maxdepth = 4))\n",
    "long_ECG200_train[id == i,tree_piecewise_4:=predict(tree_fit,long_ECG200_train[id == i])]\n",
    "}\n",
    "\n",
    "for (i in 1:length(unique(long_ECG200_train$id))){\n",
    "data_instance = long_ECG200_train[id == i]\n",
    "#data_instance[,paa_reps:=NULL]\n",
    "segment_length=5\n",
    "paa_reps=repr_paa(data_instance$value, segment_length, meanC)\n",
    "dummy_time=c(1:(length(paa_reps)-1))*segment_length \n",
    "dummy_time=c(dummy_time,nrow(data_instance))\n",
    "dt_paa=data.table(time=dummy_time,paa_reps=paa_reps)\n",
    "data_instance=merge(data_instance,dt_paa,by='time',all.x=T)\n",
    "data_instance[,paa_reps:=nafill(paa_reps,'nocb')]\n",
    "long_ECG200_train[id == i,\"paa_reps_5\"] = data_instance[,\"paa_reps\"]\n",
    "}\n",
    "\n",
    "for (i in 1:length(unique(long_ECG200_train$id))){\n",
    "data_instance = long_ECG200_train[id == i]\n",
    "#data_instance[,paa_reps:=NULL]\n",
    "segment_length=10\n",
    "paa_reps=repr_paa(data_instance$value, segment_length, meanC)\n",
    "dummy_time=c(1:(length(paa_reps)-1))*segment_length \n",
    "dummy_time=c(dummy_time,nrow(data_instance))\n",
    "dt_paa=data.table(time=dummy_time,paa_reps=paa_reps)\n",
    "data_instance=merge(data_instance,dt_paa,by='time',all.x=T)\n",
    "data_instance[,paa_reps:=nafill(paa_reps,'nocb')]\n",
    "long_ECG200_train[id == i,\"paa_reps_10\"] = data_instance[,\"paa_reps\"]\n",
    "}\n",
    "\n",
    "for (i in 1:length(unique(long_ECG200_train$id))){\n",
    "data_instance = long_ECG200_train[id == i]\n",
    "#data_instance[,paa_reps:=NULL]\n",
    "segment_length=20\n",
    "paa_reps=repr_paa(data_instance$value, segment_length, meanC)\n",
    "dummy_time=c(1:(length(paa_reps)-1))*segment_length \n",
    "dummy_time=c(dummy_time,nrow(data_instance))\n",
    "dt_paa=data.table(time=dummy_time,paa_reps=paa_reps)\n",
    "data_instance=merge(data_instance,dt_paa,by='time',all.x=T)\n",
    "data_instance[,paa_reps:=nafill(paa_reps,'nocb')]\n",
    "long_ECG200_train[id == i,\"paa_reps_20\"] = data_instance[,\"paa_reps\"]\n",
    "}\n",
    "    \n",
    "ECG200_train_raw = data.frame()\n",
    "for(i in 1:length(unique(long_ECG200_train$id))){\n",
    "ECG200_train_raw = rbind(ECG200_train_raw,t(as.data.frame(long_ECG200_train[id == i]$value)))\n",
    "}\n",
    "row.names(ECG200_train_raw) <- NULL\n",
    "\n",
    "ECG200_train_piecewise_2 = data.frame()\n",
    "for(i in 1:length(unique(long_ECG200_train$id))){\n",
    "    ECG200_train_piecewise_2 = rbind(ECG200_train_piecewise_2,t(as.data.frame(long_ECG200_train[id == i]$tree_piecewise_2)))\n",
    "}\n",
    "\n",
    "ECG200_train_piecewise_3 = data.frame()\n",
    "for(i in 1:length(unique(long_ECG200_train$id))){\n",
    "    ECG200_train_piecewise_3 = rbind(ECG200_train_piecewise_3,t(as.data.frame(long_ECG200_train[id == i]$tree_piecewise_3)))\n",
    "}\n",
    "\n",
    "ECG200_train_piecewise_4 = data.frame()\n",
    "for(i in 1:length(unique(long_ECG200_train$id))){\n",
    "    ECG200_train_piecewise_4 = rbind(ECG200_train_piecewise_4,t(as.data.frame(long_ECG200_train[id == i]$tree_piecewise_4)))\n",
    "}\n",
    "row.names(ECG200_train_piecewise_2) <- NULL\n",
    "row.names(ECG200_train_piecewise_3) <- NULL\n",
    "row.names(ECG200_train_piecewise_4) <- NULL\n",
    "\n",
    "ECG200_train_paa_reps_5 = data.frame()\n",
    "for(i in 1:length(unique(long_ECG200_train$id))){\n",
    "    ECG200_train_paa_reps_5 = rbind(ECG200_train_paa_reps_5,t(as.data.frame(long_ECG200_train[id == i]$paa_reps_5)))\n",
    "}\n",
    "\n",
    "ECG200_train_paa_reps_10 = data.frame()\n",
    "for(i in 1:length(unique(long_ECG200_train$id))){\n",
    "    ECG200_train_paa_reps_10 = rbind(ECG200_train_paa_reps_10,t(as.data.frame(long_ECG200_train[id == i]$paa_reps_10)))\n",
    "}\n",
    "\n",
    "ECG200_train_paa_reps_20 = data.frame()\n",
    "for(i in 1:length(unique(long_ECG200_train$id))){\n",
    "    ECG200_train_paa_reps_20 = rbind(ECG200_train_paa_reps_20,t(as.data.frame(long_ECG200_train[id == i]$paa_reps_20)))\n",
    "}\n",
    "row.names(ECG200_train_paa_reps_5) <- NULL\n",
    "row.names(ECG200_train_paa_reps_10) <- NULL\n",
    "row.names(ECG200_train_paa_reps_20) <- NULL\n",
    "    \n",
    "trainclass_ECG200 = c()\n",
    "for(i in 1:length(unique(long_ECG200_train$id))){\n",
    "    trainclass_ECG200 = c(trainclass_ECG200,unique(long_ECG200_train[id==i,class]))\n",
    "}\n",
    "\n",
    "set.seed(500)\n",
    "nof_rep=5\n",
    "n_fold=10\n",
    "cv_indices=generateCVRuns(trainclass_ECG200, ntimes =nof_rep, nfold = n_fold, \n",
    "                          leaveOneOut = FALSE, stratified = TRUE)\n",
    "\n",
    "matrices_ECG200 = vector(mode = \"list\",length = 7)\n",
    "matrices_ECG200[[1]] = ECG200_train_raw\n",
    "matrices_ECG200[[2]] = ECG200_train_piecewise_2\n",
    "matrices_ECG200[[3]] = ECG200_train_piecewise_3\n",
    "matrices_ECG200[[4]] = ECG200_train_piecewise_4\n",
    "matrices_ECG200[[5]] = ECG200_train_paa_reps_5\n",
    "matrices_ECG200[[6]] = ECG200_train_paa_reps_10\n",
    "matrices_ECG200[[7]] = ECG200_train_paa_reps_20\n",
    "    \n",
    "distances_ECG200 = vector(mode = \"list\",length = 7*4)\n",
    "\n",
    "for(i in 1:7){\n",
    "    large_number = 100000\n",
    "    ECG200_dist_euc=as.matrix(dist(matrices_ECG200[[i]]))\n",
    "    diag(ECG200_dist_euc)=large_number\n",
    "\n",
    "    ECG200_dist_dtw=as.matrix(dtwDist(matrices_ECG200[[i]]))\n",
    "    diag(ECG200_dist_dtw)=large_number\n",
    "\n",
    "    ECG200_dist_lcss=TSDatabaseDistances(matrices_ECG200[[i]],distance='lcss',epsilon=0.05)\n",
    "    ECG200_dist_lcss=as.matrix(ECG200_dist_lcss)\n",
    "    diag(ECG200_dist_lcss)=large_number \n",
    "\n",
    "    ECG200_dist_manhattan=as.matrix(dist(matrices_ECG200[[i]], method = \"manhattan\"))\n",
    "    diag(ECG200_dist_manhattan)=large_number\n",
    "    \n",
    "    distances_ECG200[[1 + (i-1)*4]] = ECG200_dist_euc\n",
    "    distances_ECG200[[2 + (i-1)*4]] = ECG200_dist_dtw\n",
    "    distances_ECG200[[3 + (i-1)*4]] = ECG200_dist_lcss\n",
    "    distances_ECG200[[4 + (i-1)*4]] = ECG200_dist_manhattan\n",
    "}\n",
    "\n",
    "k_levels=c(1,3,5)\n",
    "result=vector('list',length(distances_ECG200)*nof_rep*n_fold*length(k_levels))\n",
    "iter=1\n",
    "for(m in 1:length(distances_ECG200)){ #\n",
    "    dist_mat = distances_ECG200[[m]]\n",
    "    for(i in 1:nof_rep){\n",
    "        this_fold=cv_indices[[i]]\n",
    "        for(j in 1:n_fold){\n",
    "            test_indices=this_fold[[j]]\n",
    "            for(k in 1:length(k_levels)){\n",
    "                current_k=k_levels[k]\n",
    "                current_fold=nn_classify_cv(dist_mat,trainclass_ECG200,test_indices,k=current_k)\n",
    "                accuracy=sum(trainclass_ECG200[test_indices]==current_fold$prediction$predicted)/length(test_indices)\n",
    "                tmp=data.table(approach=paste(\"distance:\",m),repid=i,foldid=j,\n",
    "                               k=current_k,acc=accuracy)\n",
    "                result[[iter]]=tmp\n",
    "                iter=iter+1\n",
    "                \n",
    "            }\n",
    "            \n",
    "        }\n",
    "    \n",
    "    }   \n",
    "    \n",
    "}\n",
    "\n",
    "overall_results=rbindlist(result)\n",
    "summarized_results=overall_results[,list(avg_acc=mean(acc),sdev_acc=sd(acc),result_count=.N),by=list(approach,k)]\n",
    "\n"
   ]
  },
  {
   "cell_type": "code",
   "execution_count": null,
   "id": "d716b1e2",
   "metadata": {},
   "outputs": [],
   "source": [
    "test_classes_Ham = Ham_test$V1\n",
    "Ham_test = Ham_test[,2:ncol(Ham_test)]"
   ]
  },
  {
   "cell_type": "code",
   "execution_count": 65,
   "id": "4c4f4cac",
   "metadata": {},
   "outputs": [
    {
     "data": {
      "text/html": [
       "<table class=\"dataframe\">\n",
       "<caption>A data.table: 10 × 5</caption>\n",
       "<thead>\n",
       "\t<tr><th scope=col>approach</th><th scope=col>k</th><th scope=col>avg_acc</th><th scope=col>sdev_acc</th><th scope=col>result_count</th></tr>\n",
       "\t<tr><th scope=col>&lt;chr&gt;</th><th scope=col>&lt;dbl&gt;</th><th scope=col>&lt;dbl&gt;</th><th scope=col>&lt;dbl&gt;</th><th scope=col>&lt;int&gt;</th></tr>\n",
       "</thead>\n",
       "<tbody>\n",
       "\t<tr><td>distance: 3 </td><td>5</td><td>0.69</td><td>0.03030458</td><td>50</td></tr>\n",
       "\t<tr><td>distance: 7 </td><td>1</td><td>0.69</td><td>0.03030458</td><td>50</td></tr>\n",
       "\t<tr><td>distance: 7 </td><td>3</td><td>0.69</td><td>0.03030458</td><td>50</td></tr>\n",
       "\t<tr><td>distance: 7 </td><td>5</td><td>0.69</td><td>0.03030458</td><td>50</td></tr>\n",
       "\t<tr><td>distance: 11</td><td>1</td><td>0.69</td><td>0.03030458</td><td>50</td></tr>\n",
       "\t<tr><td>distance: 11</td><td>3</td><td>0.69</td><td>0.03030458</td><td>50</td></tr>\n",
       "\t<tr><td>distance: 11</td><td>5</td><td>0.69</td><td>0.03030458</td><td>50</td></tr>\n",
       "\t<tr><td>distance: 15</td><td>1</td><td>0.69</td><td>0.03030458</td><td>50</td></tr>\n",
       "\t<tr><td>distance: 15</td><td>3</td><td>0.69</td><td>0.03030458</td><td>50</td></tr>\n",
       "\t<tr><td>distance: 15</td><td>5</td><td>0.69</td><td>0.03030458</td><td>50</td></tr>\n",
       "</tbody>\n",
       "</table>\n"
      ],
      "text/latex": [
       "A data.table: 10 × 5\n",
       "\\begin{tabular}{lllll}\n",
       " approach & k & avg\\_acc & sdev\\_acc & result\\_count\\\\\n",
       " <chr> & <dbl> & <dbl> & <dbl> & <int>\\\\\n",
       "\\hline\n",
       "\t distance: 3  & 5 & 0.69 & 0.03030458 & 50\\\\\n",
       "\t distance: 7  & 1 & 0.69 & 0.03030458 & 50\\\\\n",
       "\t distance: 7  & 3 & 0.69 & 0.03030458 & 50\\\\\n",
       "\t distance: 7  & 5 & 0.69 & 0.03030458 & 50\\\\\n",
       "\t distance: 11 & 1 & 0.69 & 0.03030458 & 50\\\\\n",
       "\t distance: 11 & 3 & 0.69 & 0.03030458 & 50\\\\\n",
       "\t distance: 11 & 5 & 0.69 & 0.03030458 & 50\\\\\n",
       "\t distance: 15 & 1 & 0.69 & 0.03030458 & 50\\\\\n",
       "\t distance: 15 & 3 & 0.69 & 0.03030458 & 50\\\\\n",
       "\t distance: 15 & 5 & 0.69 & 0.03030458 & 50\\\\\n",
       "\\end{tabular}\n"
      ],
      "text/markdown": [
       "\n",
       "A data.table: 10 × 5\n",
       "\n",
       "| approach &lt;chr&gt; | k &lt;dbl&gt; | avg_acc &lt;dbl&gt; | sdev_acc &lt;dbl&gt; | result_count &lt;int&gt; |\n",
       "|---|---|---|---|---|\n",
       "| distance: 3  | 5 | 0.69 | 0.03030458 | 50 |\n",
       "| distance: 7  | 1 | 0.69 | 0.03030458 | 50 |\n",
       "| distance: 7  | 3 | 0.69 | 0.03030458 | 50 |\n",
       "| distance: 7  | 5 | 0.69 | 0.03030458 | 50 |\n",
       "| distance: 11 | 1 | 0.69 | 0.03030458 | 50 |\n",
       "| distance: 11 | 3 | 0.69 | 0.03030458 | 50 |\n",
       "| distance: 11 | 5 | 0.69 | 0.03030458 | 50 |\n",
       "| distance: 15 | 1 | 0.69 | 0.03030458 | 50 |\n",
       "| distance: 15 | 3 | 0.69 | 0.03030458 | 50 |\n",
       "| distance: 15 | 5 | 0.69 | 0.03030458 | 50 |\n",
       "\n"
      ],
      "text/plain": [
       "   approach     k avg_acc sdev_acc   result_count\n",
       "1  distance: 3  5 0.69    0.03030458 50          \n",
       "2  distance: 7  1 0.69    0.03030458 50          \n",
       "3  distance: 7  3 0.69    0.03030458 50          \n",
       "4  distance: 7  5 0.69    0.03030458 50          \n",
       "5  distance: 11 1 0.69    0.03030458 50          \n",
       "6  distance: 11 3 0.69    0.03030458 50          \n",
       "7  distance: 11 5 0.69    0.03030458 50          \n",
       "8  distance: 15 1 0.69    0.03030458 50          \n",
       "9  distance: 15 3 0.69    0.03030458 50          \n",
       "10 distance: 15 5 0.69    0.03030458 50          "
      ]
     },
     "metadata": {},
     "output_type": "display_data"
    }
   ],
   "source": [
    "head(summarized_results[order(-avg_acc)],10)"
   ]
  },
  {
   "cell_type": "code",
   "execution_count": 89,
   "id": "b01ff6cd",
   "metadata": {},
   "outputs": [],
   "source": [
    "test_classes_ECG200 = ECG200_test$V1\n",
    "ECG200_test = ECG200_test[,2:ncol(ECG200_test)]"
   ]
  },
  {
   "cell_type": "code",
   "execution_count": 91,
   "id": "fbc6ffbb",
   "metadata": {},
   "outputs": [],
   "source": [
    "ECG200_dist_lcss_test=TSDatabaseDistances(X = ECG200_test, Y = matrices_ECG200[[1]],distance='lcss',epsilon=0.05)\n",
    "ECG200_dist_lcss_test=as.matrix(ECG200_dist_lcss_test)\n",
    "diag(ECG200_dist_lcss_test)=large_number "
   ]
  },
  {
   "cell_type": "code",
   "execution_count": 94,
   "id": "e044f260",
   "metadata": {},
   "outputs": [
    {
     "data": {
      "text/plain": [
       "                   \n",
       "test_classes_ECG200  1  2\n",
       "                 -1 34  2\n",
       "                 1  63  1"
      ]
     },
     "metadata": {},
     "output_type": "display_data"
    },
    {
     "name": "stdout",
     "output_type": "stream",
     "text": [
      "[1] 0.63\n"
     ]
    }
   ],
   "source": [
    "ordered_indices=apply(ECG200_dist_lcss_test,1,order)\n",
    "nearest_class=apply(ordered_indices[1:5,],2,function(x) {trainclass_Ham[x]})\n",
    "nearest_class=data.table(id=1:nrow(ECG200_test),t(nearest_class))\n",
    "long_nn_class=melt(nearest_class,'id')\n",
    "class_counts=long_nn_class[,.N,list(id,value)]\n",
    "class_counts[,predicted_prob:=N/5]\n",
    "wide_class_prob_predictions=dcast(class_counts,id~value,value.var='predicted_prob')\n",
    "wide_class_prob_predictions[is.na(wide_class_prob_predictions)]=0\n",
    "class_predictions=class_counts[,list(predicted=value[which.max(N)]),by=list(id)]\n",
    "\n",
    "table(test_classes_ECG200,class_predictions$predicted)\n",
    "\n",
    "acc=sum(test_classes_ECG200==class_predictions$predicted)/length(class_predictions$predicted)\n",
    "print(acc)"
   ]
  },
  {
   "cell_type": "markdown",
   "id": "0fc99621",
   "metadata": {},
   "source": [
    "To conclude, Knn classification with best parameters is performed on five different datasets.\n",
    "For the Gunpoint old versus young dataset the best parameters are: raw data, dtw distance, k = 5\n",
    "For the Powercons dataset the best parameters are: tree piecewise with maxdepth = 2, lcss distance, k = 1\n",
    "For the Freezeregulartrain dataset the best parameters are: piecewise aggregate approximation segment length = 5, manhattan distance, k = 1\n",
    "For the Ham dataset the best parameters are: piecewise aggregate approximation segment length = 5, manhattan distance, k = 1\n",
    "For the ECG200 dataset the best parameters are: raw data, lcss distance, k = 5\n",
    "parameters were chosen. Predictions were done and results were shown above."
   ]
  }
 ],
 "metadata": {
  "kernelspec": {
   "display_name": "R",
   "language": "R",
   "name": "ir"
  },
  "language_info": {
   "codemirror_mode": "r",
   "file_extension": ".r",
   "mimetype": "text/x-r-source",
   "name": "R",
   "pygments_lexer": "r",
   "version": "4.1.2"
  }
 },
 "nbformat": 4,
 "nbformat_minor": 5
}
